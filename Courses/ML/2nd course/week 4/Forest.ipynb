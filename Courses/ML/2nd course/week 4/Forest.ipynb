{
 "cells": [
  {
   "cell_type": "markdown",
   "metadata": {},
   "source": [
    "#### 1 пункт"
   ]
  },
  {
   "cell_type": "code",
   "execution_count": 28,
   "metadata": {},
   "outputs": [
    {
     "name": "stdout",
     "output_type": "stream",
     "text": [
      "0.8269087523277466\n"
     ]
    }
   ],
   "source": [
    "from matplotlib.colors import ListedColormap\n",
    "from sklearn import model_selection, datasets, metrics, tree, ensemble\n",
    "import pandas as pd\n",
    "from sklearn.model_selection import cross_val_score\n",
    "import numpy as np\n",
    "dig = datasets.load_digits()\n",
    "X = dig.data\n",
    "y = dig.target\n",
    "clf = tree.DecisionTreeClassifier()\n",
    "score = cross_val_score(clf, X, y, cv=10).mean()\n",
    "print(score)\n",
    "with open('1.txt', 'w') as f:\n",
    "    f.write(str(score))"
   ]
  },
  {
   "cell_type": "markdown",
   "metadata": {},
   "source": [
    "#### 2 пункт"
   ]
  },
  {
   "cell_type": "code",
   "execution_count": 51,
   "metadata": {},
   "outputs": [
    {
     "name": "stdout",
     "output_type": "stream",
     "text": [
      "0.9237212911235257\n"
     ]
    }
   ],
   "source": [
    "# 2\n",
    "bagging = ensemble.BaggingClassifier(base_estimator=clf,  n_estimators=100)\n",
    "score = cross_val_score(bagging, X, y, cv=10).mean()\n",
    "print(score)\n",
    "with open('2.txt', 'w') as f:\n",
    "    f.write(str(score))"
   ]
  },
  {
   "cell_type": "markdown",
   "metadata": {},
   "source": [
    "#### 3 пункт"
   ]
  },
  {
   "cell_type": "code",
   "execution_count": 54,
   "metadata": {},
   "outputs": [
    {
     "name": "stdout",
     "output_type": "stream",
     "text": [
      "0.927101179391682\n"
     ]
    }
   ],
   "source": [
    "bagging = ensemble.BaggingClassifier(base_estimator=clf,  n_estimators=100, max_features=int(np.sqrt(X.shape[1])))\n",
    "score = cross_val_score(bagging, X, y, cv=10).mean()\n",
    "print(score)\n",
    "with open('3.txt', 'w') as f:\n",
    "    f.write(str(score))"
   ]
  },
  {
   "cell_type": "markdown",
   "metadata": {},
   "source": [
    "#### 4 пункт"
   ]
  },
  {
   "cell_type": "code",
   "execution_count": 53,
   "metadata": {},
   "outputs": [
    {
     "name": "stdout",
     "output_type": "stream",
     "text": [
      "0.950477963997517\n"
     ]
    }
   ],
   "source": [
    "clf = tree.DecisionTreeClassifier(max_features=int(np.sqrt(X.shape[1])))\n",
    "bagging = ensemble.BaggingClassifier(base_estimator=clf,  n_estimators=100)\n",
    "score = cross_val_score(bagging, X, y, cv=10).mean()\n",
    "print(score)\n",
    "with open('4.txt', 'w') as f:\n",
    "    f.write(str(score))"
   ]
  }
 ],
 "metadata": {
  "kernelspec": {
   "display_name": "Python 3",
   "language": "python",
   "name": "python3"
  },
  "language_info": {
   "codemirror_mode": {
    "name": "ipython",
    "version": 3
   },
   "file_extension": ".py",
   "mimetype": "text/x-python",
   "name": "python",
   "nbconvert_exporter": "python",
   "pygments_lexer": "ipython3",
   "version": "3.7.6"
  }
 },
 "nbformat": 4,
 "nbformat_minor": 4
}
