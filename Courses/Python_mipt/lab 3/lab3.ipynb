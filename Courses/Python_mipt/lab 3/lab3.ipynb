{
 "cells": [
  {
   "cell_type": "markdown",
   "metadata": {},
   "source": [
    "## Упражнение 1"
   ]
  },
  {
   "cell_type": "code",
   "execution_count": 5,
   "metadata": {},
   "outputs": [
    {
     "name": "stdout",
     "output_type": "stream",
     "text": [
      "4\n",
      "CTTA\n",
      "ACCA\n",
      "TACC\n",
      "GGCT\n",
      "GCTT\n",
      "TTAC\n"
     ]
    }
   ],
   "source": [
    "with open('sample_3.txt') as f:\n",
    "    for line in f.readlines():\n",
    "        print(line.strip())"
   ]
  },
  {
   "cell_type": "markdown",
   "metadata": {},
   "source": [
    "## Упражнение 2"
   ]
  },
  {
   "cell_type": "code",
   "execution_count": 6,
   "metadata": {},
   "outputs": [],
   "source": [
    "def write_array(array, file_name):\n",
    "    with open(file_name, 'w') as f:\n",
    "        f.write('\\n'.join(array))"
   ]
  },
  {
   "cell_type": "code",
   "execution_count": 7,
   "metadata": {},
   "outputs": [],
   "source": [
    "a = ['asfsa', 'asfasf', 'safasg']\n",
    "write_array(a, 'test.txt')"
   ]
  },
  {
   "cell_type": "markdown",
   "metadata": {},
   "source": [
    "## Упраженение 3"
   ]
  },
  {
   "cell_type": "code",
   "execution_count": 11,
   "metadata": {},
   "outputs": [],
   "source": [
    "import zipfile\n",
    "z = zipfile.ZipFile('main.zip')\n",
    "z.extractall()"
   ]
  },
  {
   "cell_type": "code",
   "execution_count": null,
   "metadata": {},
   "outputs": [],
   "source": [
    "import os\n",
    "def find_all_py_dir(name):\n",
    "    for file in os.listdir(name):\n",
    "        if file"
   ]
  },
  {
   "cell_type": "code",
   "execution_count": 14,
   "metadata": {},
   "outputs": [
    {
     "data": {
      "text/plain": [
       "['aelpx.txt',\n",
       " 'afkgv',\n",
       " 'ddiqo',\n",
       " 'dshyt.txt',\n",
       " 'fjcnm.py',\n",
       " 'fpyfb.py',\n",
       " 'frtrl',\n",
       " 'hgyoc',\n",
       " 'iswbd.txt',\n",
       " 'ivcpr.txt',\n",
       " 'ivdfa.txt',\n",
       " 'ivkih.txt',\n",
       " 'iwohr.py',\n",
       " 'jogpz.py',\n",
       " 'jrczb',\n",
       " 'kqgeg.txt',\n",
       " 'ksuvk',\n",
       " 'lmrrz.txt',\n",
       " 'lqbli',\n",
       " 'lzccb.py',\n",
       " 'mdwam.txt',\n",
       " 'mwgax.txt',\n",
       " 'mwhci',\n",
       " 'myjqk.py',\n",
       " 'nelpv.py',\n",
       " 'nrlqk.py',\n",
       " 'oizxq.txt',\n",
       " 'olmhl',\n",
       " 'qbarq.txt',\n",
       " 'qcdrm.py',\n",
       " 'qdbhh.txt',\n",
       " 'qhjmz.txt',\n",
       " 'qkseh',\n",
       " 'rlvgd.txt',\n",
       " 'rpuyq.txt',\n",
       " 'sgeru.txt',\n",
       " 'sidxx.txt',\n",
       " 'sitdc',\n",
       " 'soldv.txt',\n",
       " 'suvtu.py',\n",
       " 'taivr',\n",
       " 'tgwey',\n",
       " 'uvvuz',\n",
       " 'vaxyw.txt',\n",
       " 'wkwll',\n",
       " 'wvere.txt',\n",
       " 'wxhtw.py',\n",
       " 'xmffa.txt',\n",
       " 'ybebm',\n",
       " 'yohuh.txt',\n",
       " 'yvgwm.py',\n",
       " 'zduna',\n",
       " 'zgwye.txt',\n",
       " 'zyczx']"
      ]
     },
     "execution_count": 14,
     "metadata": {},
     "output_type": "execute_result"
    }
   ],
   "source": [
    "import os\n",
    "os.listdir('/main')"
   ]
  },
  {
   "cell_type": "code",
   "execution_count": null,
   "metadata": {},
   "outputs": [],
   "source": []
  }
 ],
 "metadata": {
  "kernelspec": {
   "display_name": "Python 3",
   "language": "python",
   "name": "python3"
  },
  "language_info": {
   "codemirror_mode": {
    "name": "ipython",
    "version": 3
   },
   "file_extension": ".py",
   "mimetype": "text/x-python",
   "name": "python",
   "nbconvert_exporter": "python",
   "pygments_lexer": "ipython3",
   "version": "3.7.6"
  }
 },
 "nbformat": 4,
 "nbformat_minor": 4
}
