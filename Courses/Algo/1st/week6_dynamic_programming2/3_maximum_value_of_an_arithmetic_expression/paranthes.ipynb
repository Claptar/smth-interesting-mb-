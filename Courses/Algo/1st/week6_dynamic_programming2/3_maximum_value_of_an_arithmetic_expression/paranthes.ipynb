{
 "cells": [
  {
   "cell_type": "code",
   "execution_count": 3,
   "metadata": {},
   "outputs": [],
   "source": [
    "def evalt(a, b, op):\n",
    "    if op == '+':\n",
    "        return a + b\n",
    "    elif op == '-':\n",
    "        return a - b\n",
    "    elif op == '*':\n",
    "        return a * b\n",
    "    else:\n",
    "        assert False\n",
    "\n",
    "\n",
    "def dataset_conv(dataset):\n",
    "    num = []\n",
    "    op = []\n",
    "    for el in dataset:\n",
    "        if el.isdigit():\n",
    "            num.append(int(el))\n",
    "        else:\n",
    "            op.append(el)\n",
    "    return num, op"
   ]
  },
  {
   "cell_type": "code",
   "execution_count": 4,
   "metadata": {},
   "outputs": [],
   "source": [
    "def get_maximum_value(num, op):\n",
    "    n = len(num)\n",
    "    M = [[0] * n for i in range(n)]\n",
    "    m = [[0] * n for i in range(n)]\n",
    "    for i in range(n):\n",
    "        M[i][i] = num[i]\n",
    "        m[i][i] = num[i]\n",
    "    for i in range(1, n):\n",
    "        for j in range(n - i):\n",
    "            eq1 = evalt(M[j][i + j - 1], M[j + 1][i + j], op[i - 1 +j])\n",
    "            eq2 = evalt(m[j][i + j - 1], M[j + 1][i + j], op[i - 1 +j])\n",
    "            eq3 = evalt(M[j][i + j - 1], m[j + 1][i + j], op[i - 1 +j])\n",
    "            eq4 = evalt(m[j][i + j - 1], m[j + 1][i + j], op[i - 1 +j])\n",
    "            M[j][i + j] = max(eq1, eq2, eq3, eq4)\n",
    "            m[j][i + j] = min(eq1, eq2, eq3, eq4)\n",
    "    return M, m"
   ]
  },
  {
   "cell_type": "code",
   "execution_count": 5,
   "metadata": {},
   "outputs": [
    {
     "name": "stdout",
     "output_type": "stream",
     "text": [
      "5-8+7*4-8+9\n"
     ]
    }
   ],
   "source": [
    "dataset = input()\n",
    "num, op = dataset_conv(dataset)\n",
    "#print(get_maximum_value(num, op))"
   ]
  },
  {
   "cell_type": "code",
   "execution_count": 6,
   "metadata": {},
   "outputs": [
    {
     "data": {
      "text/plain": [
       "([[5, -3, 12, 5040, 4652, 5085],\n",
       "  [0, 8, 15, 420, 388, 433],\n",
       "  [0, 0, 7, 28, 32, 45],\n",
       "  [0, 0, 0, 4, -4, 13],\n",
       "  [0, 0, 0, 0, 8, 17],\n",
       "  [0, 0, 0, 0, 0, 9]],\n",
       " [[5, -3, 12, 5040, 4652, 5085],\n",
       "  [0, 8, 15, 420, 388, 433],\n",
       "  [0, 0, 7, 28, 32, 45],\n",
       "  [0, 0, 0, 4, -4, 13],\n",
       "  [0, 0, 0, 0, 8, 17],\n",
       "  [0, 0, 0, 0, 0, 9]])"
      ]
     },
     "execution_count": 6,
     "metadata": {},
     "output_type": "execute_result"
    }
   ],
   "source": [
    "get_maximum_value(num, op)"
   ]
  },
  {
   "cell_type": "code",
   "execution_count": null,
   "metadata": {},
   "outputs": [],
   "source": []
  }
 ],
 "metadata": {
  "kernelspec": {
   "display_name": "Python 3",
   "language": "python",
   "name": "python3"
  },
  "language_info": {
   "codemirror_mode": {
    "name": "ipython",
    "version": 3
   },
   "file_extension": ".py",
   "mimetype": "text/x-python",
   "name": "python",
   "nbconvert_exporter": "python",
   "pygments_lexer": "ipython3",
   "version": "3.7.6"
  }
 },
 "nbformat": 4,
 "nbformat_minor": 4
}
