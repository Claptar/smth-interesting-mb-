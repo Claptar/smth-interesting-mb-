{
 "cells": [
  {
   "cell_type": "code",
   "execution_count": 4,
   "metadata": {},
   "outputs": [],
   "source": [
    "def evalt(a, b, op):\n",
    "    if op == '+':\n",
    "        return a + b\n",
    "    elif op == '-':\n",
    "        return a - b\n",
    "    elif op == '*':\n",
    "        return a * b\n",
    "    else:\n",
    "        assert False\n",
    "\n",
    "\n",
    "def dataset_conv(dataset):\n",
    "    num = []\n",
    "    op = []\n",
    "    for el in dataset:\n",
    "        if el.isdigit():\n",
    "            num.append(int(el))\n",
    "        else:\n",
    "            op.append(el)\n",
    "    return num, op"
   ]
  },
  {
   "cell_type": "code",
   "execution_count": 29,
   "metadata": {},
   "outputs": [],
   "source": [
    "def maxmin(num, op, M, m, i , j):\n",
    "    mini =  max(num) ** (len(num) // 2)\n",
    "    maxi = - max(num) ** (len(num) // 2)\n",
    "    for k in range(i, j):\n",
    "        eq1 = evalt(M[i][k], M[k + 1][j], op[k])\n",
    "        eq2 = evalt(M[i][k], m[k + 1][j], op[k])\n",
    "        eq3 = evalt(m[i][k], M[k + 1][j], op[k])\n",
    "        eq4 = evalt(m[i][k], m[k + 1][j], op[k])\n",
    "        mini = min(mini, eq1, eq2, eq3, eq4)\n",
    "        maxi = max(maxi, eq1, eq2, eq3, eq4)\n",
    "    return mini, maxi"
   ]
  },
  {
   "cell_type": "code",
   "execution_count": 39,
   "metadata": {},
   "outputs": [],
   "source": [
    "def get_maximum_value(num, op):\n",
    "    n = len(num)\n",
    "    M = [[0] * n for i in range(n)]\n",
    "    m = [[0] * n for i in range(n)]\n",
    "    for i in range(n):\n",
    "        M[i][i] = num[i]\n",
    "        m[i][i] = num[i]\n",
    "    for i in range(1, n):\n",
    "        for j in range(n - i):\n",
    "            m[j][i + j], M[j][i + j] = maxmin(num, op, M, m, j, i + j)\n",
    "    return M[0][len(num) - 1]"
   ]
  },
  {
   "cell_type": "code",
   "execution_count": 40,
   "metadata": {},
   "outputs": [
    {
     "name": "stdout",
     "output_type": "stream",
     "text": [
      "200\n"
     ]
    }
   ],
   "source": [
    "dataset = '5-8+7*4-8+9'\n",
    "num, op = dataset_conv(dataset)\n",
    "print(get_maximum_value(num, op))"
   ]
  },
  {
   "cell_type": "code",
   "execution_count": null,
   "metadata": {},
   "outputs": [],
   "source": []
  }
 ],
 "metadata": {
  "kernelspec": {
   "display_name": "Python 3",
   "language": "python",
   "name": "python3"
  },
  "language_info": {
   "codemirror_mode": {
    "name": "ipython",
    "version": 3
   },
   "file_extension": ".py",
   "mimetype": "text/x-python",
   "name": "python",
   "nbconvert_exporter": "python",
   "pygments_lexer": "ipython3",
   "version": "3.7.6"
  }
 },
 "nbformat": 4,
 "nbformat_minor": 4
}
