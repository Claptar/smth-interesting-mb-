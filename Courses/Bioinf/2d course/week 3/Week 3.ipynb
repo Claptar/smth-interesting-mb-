{
 "cells": [
  {
   "cell_type": "markdown",
   "metadata": {},
   "source": [
    "## Protein Translation Problem"
   ]
  },
  {
   "cell_type": "code",
   "execution_count": 31,
   "metadata": {},
   "outputs": [],
   "source": [
    "def rna_to_protein(rna):\n",
    "    dic = dict()\n",
    "    protein = ''\n",
    "    with open('RNA_codon_table_1.txt') as f:\n",
    "        for line in f.readlines():\n",
    "            line = line.strip().split(' ')\n",
    "            dic[line[0]] = line[1]\n",
    "    for i in range(0, len(rna) - 3 + 1, 3):\n",
    "        protein += dic[rna[i: i + 3]]\n",
    "    return protein.replace(':', '')"
   ]
  },
  {
   "cell_type": "code",
   "execution_count": 66,
   "metadata": {},
   "outputs": [
    {
     "data": {
      "text/plain": [
       "'MAMAPRTEINSTRING'"
      ]
     },
     "execution_count": 66,
     "metadata": {},
     "output_type": "execute_result"
    }
   ],
   "source": [
    "rna_to_protein('AUGGCCAUGGCGCCCAGAACUGAGAUCAAUAGUACCCGUAUUAACGGGUGA')"
   ]
  },
  {
   "cell_type": "code",
   "execution_count": 69,
   "metadata": {},
   "outputs": [],
   "source": [
    "with open('datasets/dataset_96_4.txt', 'r') as f, open('answers/answer_96_4.txt', 'w') as g:\n",
    "    rna = f.read()\n",
    "    g.write(rna_to_protein(rna))"
   ]
  },
  {
   "cell_type": "markdown",
   "metadata": {},
   "source": [
    "## Peptide Encoding Problem"
   ]
  },
  {
   "cell_type": "code",
   "execution_count": 46,
   "metadata": {},
   "outputs": [
    {
     "data": {
      "text/plain": [
       "'ATGGCC'"
      ]
     },
     "execution_count": 46,
     "metadata": {},
     "output_type": "execute_result"
    }
   ],
   "source": [
    "'GGCCAT'.replace('T', 'a').replace('A', 't').replace('G', 'c').replace('C', 'g')[::-1].upper()"
   ]
  },
  {
   "cell_type": "code",
   "execution_count": 57,
   "metadata": {},
   "outputs": [],
   "source": [
    "def encoding(string, protein):\n",
    "    reverse_str = lambda string: string.replace('U', 'a').replace('A', 'u').replace('G', 'c').replace('C', 'g')[::-1].upper()\n",
    "    string = string.replace('T', 'U')\n",
    "    reverse = reverse_str(string)\n",
    "    k = len(protein) * 3\n",
    "    rna = []\n",
    "    for i in range(len(string) - k + 1):\n",
    "        if rna_to_protein(string[i:i + k]) == protein:\n",
    "            rna.append(string[i:i + k].replace('U', 'T'))\n",
    "    for i in range(len(reverse) - k + 1):\n",
    "        if rna_to_protein(reverse[i:i + k]) == protein:\n",
    "            rev = reverse_str(reverse[i:i + k])\n",
    "            rna.append(rev.replace('U', 'T'))\n",
    "    return rna"
   ]
  },
  {
   "cell_type": "code",
   "execution_count": 59,
   "metadata": {},
   "outputs": [
    {
     "data": {
      "text/plain": [
       "['ATGGCC', 'ATGGCC', 'GGCCAT']"
      ]
     },
     "execution_count": 59,
     "metadata": {},
     "output_type": "execute_result"
    }
   ],
   "source": [
    "string = 'ATGGCCATGGCCCCCAGAACTGAGATCAATAGTACCCGTATTAACGGGTGA'\n",
    "protein = 'MA'\n",
    "encoding(string, protein)"
   ]
  },
  {
   "cell_type": "code",
   "execution_count": 61,
   "metadata": {},
   "outputs": [],
   "source": [
    "with open('datasets/dataset_96_7.txt') as f, open('answers/anwer_96_7.txt', 'w') as g:\n",
    "    string = f.readline().strip()\n",
    "    protein = f.readline().strip()\n",
    "    g.write('\\n'.join(encoding(string, protein)))"
   ]
  },
  {
   "cell_type": "markdown",
   "metadata": {},
   "source": [
    "## Generating the Theoretical Spectrum of a Peptide"
   ]
  },
  {
   "cell_type": "code",
   "execution_count": 2,
   "metadata": {},
   "outputs": [],
   "source": [
    "def mass_dict():\n",
    "    \"\"\"\n",
    "    Return: dict of AminoAsid Masses\n",
    "    \"\"\"\n",
    "    dic = dict()\n",
    "    with open('integer_mass_table.txt') as f:\n",
    "        for line in f.readlines():\n",
    "            line = line.strip().split(' ')\n",
    "            dic[line[0]] = int(line[1])\n",
    "    return dic"
   ]
  },
  {
   "cell_type": "code",
   "execution_count": 3,
   "metadata": {},
   "outputs": [],
   "source": [
    "def LinearSpectrum(peptide, mass_dict):\n",
    "    \"\"\"\n",
    "    Generating spectrum of linear peptide\n",
    "    \"\"\"\n",
    "    prefix_mass = [0]\n",
    "    for i in range(1, len(pept) + 1):\n",
    "        for s in mass_dict.keys():\n",
    "            if s == peptide[i - 1]:\n",
    "                prefix_mass.append(prefix_mass[i - 1] + mass_dict[s])\n",
    "    linear_spectrum = [0]\n",
    "    for i in range(len(peptide)):\n",
    "        for j in range(i + 1, len(peptide) + 1):\n",
    "            linear_spectrum.append(prefix_mass[j] - prefix_mass[i])\n",
    "    return sorted(linear_spectrum)"
   ]
  },
  {
   "cell_type": "code",
   "execution_count": 4,
   "metadata": {},
   "outputs": [
    {
     "name": "stdout",
     "output_type": "stream",
     "text": [
      "0 113 114 128 129 242 242 257 370 371 484\n"
     ]
    }
   ],
   "source": [
    "pept = 'NQEL'\n",
    "print(' '.join(list(map(str, LinearSpectrum(pept, mass_dict())))))"
   ]
  },
  {
   "cell_type": "code",
   "execution_count": 5,
   "metadata": {},
   "outputs": [],
   "source": [
    "def CyclicSpectrum(peptide, mass_dict):\n",
    "    \"\"\"\n",
    "    Generating spectrum of linear peptide\n",
    "    \"\"\"\n",
    "    prefix_mass = [0]\n",
    "    for i in range(1, len(pept) + 1):\n",
    "        for s in mass_dict.keys():\n",
    "            if s == peptide[i - 1]:\n",
    "                prefix_mass.append(prefix_mass[i - 1] + mass_dict[s])\n",
    "    peptitede_mass = prefix_mass[-1]\n",
    "    cyclic_spectrum = [0]\n",
    "    for i in range(len(peptide)):\n",
    "        for j in range(i + 1, len(peptide) + 1):\n",
    "            cyclic_spectrum.append(prefix_mass[j] - prefix_mass[i])\n",
    "            if i > 0 and j < len(peptide):\n",
    "                cyclic_spectrum.append(peptitede_mass - (prefix_mass[j] - prefix_mass[i]))\n",
    "    return sorted(cyclic_spectrum)"
   ]
  },
  {
   "cell_type": "code",
   "execution_count": 6,
   "metadata": {},
   "outputs": [
    {
     "name": "stdout",
     "output_type": "stream",
     "text": [
      "0 71 101 113 131 184 202 214 232 285 303 315 345 416\n"
     ]
    }
   ],
   "source": [
    "pept = 'MTAI'\n",
    "print(' '.join(list(map(str, CyclicSpectrum(pept, mass_dict())))))"
   ]
  },
  {
   "cell_type": "code",
   "execution_count": 45,
   "metadata": {},
   "outputs": [
    {
     "data": {
      "text/plain": [
       "False"
      ]
     },
     "execution_count": 45,
     "metadata": {},
     "output_type": "execute_result"
    }
   ],
   "source": [
    "pept = 'TAIM'\n",
    "strr = ' '.join(list(map(str, CyclicSpectrum(pept, mass_dict()))))\n",
    "spec = '0 71 101 113 131 184 202 214 232 285 303 315 345 416'\n",
    "strr == spec"
   ]
  },
  {
   "cell_type": "code",
   "execution_count": 51,
   "metadata": {},
   "outputs": [
    {
     "data": {
      "text/plain": [
       "False"
      ]
     },
     "execution_count": 51,
     "metadata": {},
     "output_type": "execute_result"
    }
   ],
   "source": [
    "pept = 'CET'\n",
    "spec = set(map(int,'0 71 99 101 103 128 129 199 200 204 227 230 231 298 303 328 330 332 333'.split()))\n",
    "set(LinearSpectrum(pept, mass_dict())).issubset(spec)"
   ]
  },
  {
   "cell_type": "code",
   "execution_count": 23,
   "metadata": {},
   "outputs": [
    {
     "data": {
      "text/plain": [
       "{'1', '2', '3'}"
      ]
     },
     "execution_count": 23,
     "metadata": {},
     "output_type": "execute_result"
    }
   ],
   "source": [
    "spec = set('1 2 3'.split())\n"
   ]
  },
  {
   "cell_type": "code",
   "execution_count": 35,
   "metadata": {},
   "outputs": [
    {
     "data": {
      "text/plain": [
       "'PSTEIN'"
      ]
     },
     "execution_count": 35,
     "metadata": {},
     "output_type": "execute_result"
    }
   ],
   "source": [
    "rna_to_protein('CCAAGUACAGAGAUUAAC')"
   ]
  }
 ],
 "metadata": {
  "kernelspec": {
   "display_name": "Python 3",
   "language": "python",
   "name": "python3"
  },
  "language_info": {
   "codemirror_mode": {
    "name": "ipython",
    "version": 3
   },
   "file_extension": ".py",
   "mimetype": "text/x-python",
   "name": "python",
   "nbconvert_exporter": "python",
   "pygments_lexer": "ipython3",
   "version": "3.7.6"
  }
 },
 "nbformat": 4,
 "nbformat_minor": 4
}
