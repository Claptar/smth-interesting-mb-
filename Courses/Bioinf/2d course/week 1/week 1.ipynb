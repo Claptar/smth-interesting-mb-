{
 "cells": [
  {
   "cell_type": "markdown",
   "metadata": {},
   "source": [
    "## Solve the String Composition Problem."
   ]
  },
  {
   "cell_type": "code",
   "execution_count": 17,
   "metadata": {},
   "outputs": [],
   "source": [
    "def kmer_to_num(kmer):\n",
    "    num = 0\n",
    "    dic = {\"A\": 0, \"C\": 1, \"G\": 2, \"T\": 3}\n",
    "    for i in range(len(pattern)):\n",
    "        num += dic[pattern[i]] * 4 ** (len(pattern) - i - 1)\n",
    "    return num\n",
    "\n",
    "def num_to_kmer(k, num):\n",
    "    slovar = {0: \"A\", 1: \"C\", 2: \"G\", 3: \"T\"}\n",
    "    pattern = ''\n",
    "    while num > 3:\n",
    "        pattern += slovar[num % 4]\n",
    "        num = num // 4\n",
    "        if num < 4:\n",
    "            pattern += slovar[num]\n",
    "    return 'A' * (k - len(pattern)) + pattern[::-1]"
   ]
  },
  {
   "cell_type": "code",
   "execution_count": 18,
   "metadata": {},
   "outputs": [],
   "source": [
    "def composition(k, text):\n",
    "    'turning text in list of reads in lexicografic order'\n",
    "    comp = []\n",
    "    for i in range(len(text) - k + 1):\n",
    "        comp.append(text[i:i + k])\n",
    "    return sorted(comp)"
   ]
  },
  {
   "cell_type": "code",
   "execution_count": 19,
   "metadata": {},
   "outputs": [],
   "source": [
    "with open('dataset_197_3.txt', 'r+') as f:\n",
    "    k = int(f.readline().strip())\n",
    "    text = f.readline().strip()\n",
    "    f.write('\\n'.join(composition(k, text)))"
   ]
  },
  {
   "cell_type": "markdown",
   "metadata": {},
   "source": [
    "## String Spelled"
   ]
  },
  {
   "cell_type": "code",
   "execution_count": 20,
   "metadata": {},
   "outputs": [
    {
     "name": "stdout",
     "output_type": "stream",
     "text": [
      "[]\n"
     ]
    }
   ],
   "source": [
    "import sys\n",
    "\n",
    "if __name__ == \"__main__\":\n",
    "    Input = sys.stdin.readlines()\n",
    "    patternList = [pattern.strip() for pattern in Input]\n",
    "    ans = composition(4, patternList)\n",
    "    print(ans)"
   ]
  },
  {
   "cell_type": "code",
   "execution_count": 21,
   "metadata": {},
   "outputs": [],
   "source": [
    "def spell(lines):\n",
    "    string = lines[0]\n",
    "    k = len(lines[0])\n",
    "    for i in range(1, len(lines)):\n",
    "        string += lines[i][k - 1]\n",
    "    return string"
   ]
  },
  {
   "cell_type": "code",
   "execution_count": 22,
   "metadata": {},
   "outputs": [],
   "source": [
    "with open('dataset_198_3.txt', 'r') as f:\n",
    "    pattern_list = list(map(lambda x: x.strip(), f.readlines()))\n",
    "with open('answer_198_3.txt', 'w') as f:\n",
    "    f.write(spell(pattern_list))"
   ]
  },
  {
   "cell_type": "markdown",
   "metadata": {},
   "source": [
    "## Overlap Graph Problem"
   ]
  },
  {
   "cell_type": "code",
   "execution_count": 26,
   "metadata": {},
   "outputs": [],
   "source": [
    "def reads_to_graph(reads):\n",
    "    graph = dict()\n",
    "    for read1 in reads:\n",
    "        for read2 in reads:\n",
    "            if read1[1:] == read2[:-1]:\n",
    "                if read1 in graph:\n",
    "                    graph[read1].append(read2)\n",
    "                else:\n",
    "                    graph[read1] = [read2]\n",
    "    return graph"
   ]
  },
  {
   "cell_type": "code",
   "execution_count": 34,
   "metadata": {},
   "outputs": [],
   "source": [
    "with open('dataset_198_10.txt', 'r') as f:\n",
    "    patternList = list(map(lambda x: x.strip(), f.readlines()))\n",
    "overlapList = reads_to_graph(patternList)\n",
    "with open('answer_198_10.txt', 'w') as f:\n",
    "    for pattern, adjacencies in overlapList.items():\n",
    "        if len(adjacencies) > 0:\n",
    "            f.write(pattern + '->' + ','.join(adjacencies) + '\\n')"
   ]
  },
  {
   "cell_type": "code",
   "execution_count": 28,
   "metadata": {},
   "outputs": [
    {
     "data": {
      "text/plain": [
       "{'GCATG': ['CATGC'],\n",
       " 'CATGC': ['ATGCG'],\n",
       " 'AGGCA': ['GGCAT', 'GGCAC'],\n",
       " 'GGCAT': ['GCATG']}"
      ]
     },
     "execution_count": 28,
     "metadata": {},
     "output_type": "execute_result"
    }
   ],
   "source": [
    "reads = ['ATGCG', 'GCATG', 'CATGC', 'AGGCA', 'GGCAT', 'GGCAC']\n",
    "reads_to_graph(reads)"
   ]
  },
  {
   "cell_type": "markdown",
   "metadata": {},
   "source": [
    "## De Bruijn Graph from a String"
   ]
  },
  {
   "cell_type": "code",
   "execution_count": 42,
   "metadata": {},
   "outputs": [],
   "source": [
    "def debru_from_string(k, string):\n",
    "    graph = dict()\n",
    "    for i in range(len(string) - k + 1):\n",
    "        if string[i:i + k - 1] in graph:\n",
    "            graph[string[i:i + k - 1]].append(string[i + 1:i + k])\n",
    "        else:\n",
    "            graph[string[i:i + k - 1]] = [string[i + 1:i + k]]\n",
    "    return graph"
   ]
  },
  {
   "cell_type": "code",
   "execution_count": 80,
   "metadata": {},
   "outputs": [],
   "source": [
    "def count(string):\n",
    "    a = ['000', '001', '010', '011', '100', '101', '110', '111']\n",
    "    dic = dict((d, 0) for d in a)\n",
    "    print(dic)\n",
    "    for i in range(len(string) - 2):\n",
    "        dic[string[i:i+3]] += 1\n",
    "    return dic"
   ]
  },
  {
   "cell_type": "code",
   "execution_count": 108,
   "metadata": {},
   "outputs": [
    {
     "name": "stdout",
     "output_type": "stream",
     "text": [
      "{'000': 0, '001': 0, '010': 0, '011': 0, '100': 0, '101': 0, '110': 0, '111': 0}\n"
     ]
    },
    {
     "data": {
      "text/plain": [
       "{'000': 0,\n",
       " '001': 1,\n",
       " '010': 0,\n",
       " '011': 2,\n",
       " '100': 2,\n",
       " '101': 1,\n",
       " '110': 2,\n",
       " '111': 0}"
      ]
     },
     "execution_count": 108,
     "metadata": {},
     "output_type": "execute_result"
    }
   ],
   "source": [
    "count('1001101100')"
   ]
  },
  {
   "cell_type": "code",
   "execution_count": 90,
   "metadata": {},
   "outputs": [
    {
     "data": {
      "text/plain": [
       "{'010': ['101', '101', '101', '100'], '101': ['010', '010', '010']}"
      ]
     },
     "execution_count": 90,
     "metadata": {},
     "output_type": "execute_result"
    }
   ],
   "source": [
    "debru_from_string(4, '0101010100')"
   ]
  },
  {
   "cell_type": "code",
   "execution_count": 43,
   "metadata": {},
   "outputs": [
    {
     "data": {
      "text/plain": [
       "{'AAG': ['AGA', 'AGA'],\n",
       " 'AGA': ['GAT', 'GAT'],\n",
       " 'GAT': ['ATT', 'ATC'],\n",
       " 'ATT': ['TTC'],\n",
       " 'TTC': ['TCT'],\n",
       " 'TCT': ['CTC', 'CTA'],\n",
       " 'CTC': ['TCT'],\n",
       " 'CTA': ['TAA'],\n",
       " 'TAA': ['AAG']}"
      ]
     },
     "execution_count": 43,
     "metadata": {},
     "output_type": "execute_result"
    }
   ],
   "source": [
    "k = 4\n",
    "string = 'AAGATTCTCTAAGATC'\n",
    "debru_from_string(k, string)"
   ]
  },
  {
   "cell_type": "code",
   "execution_count": 46,
   "metadata": {},
   "outputs": [],
   "source": [
    "with open('dataset_199_6.txt', 'r') as f:\n",
    "    k = int(f.readline())\n",
    "    string = f.readline().strip()\n",
    "graph = debru_from_string(k, string)\n",
    "with open('answer_199_6.txt', 'w') as f:\n",
    "    for pattern, adjacencies in graph.items():\n",
    "        if len(adjacencies) > 0:\n",
    "            f.write(pattern + ' -> ' + ','.join(adjacencies) + '\\n')"
   ]
  },
  {
   "cell_type": "code",
   "execution_count": 21,
   "metadata": {},
   "outputs": [],
   "source": [
    "def de_bruijn_graph(k, seq):\n",
    "    from collections import defaultdict\n",
    "    graph_dict = defaultdict(list)\n",
    "    k = k - 1\n",
    "    for pos in range(len(seq) - k):\n",
    "        graph_dict[seq[pos:pos+k]].append(seq[pos+1: pos+k+1])\n",
    "    return graph_dict\n",
    "\n",
    "\n",
    "with open('dataset_199_6.txt', 'r') as f:\n",
    "    k = int(f.readline())\n",
    "    string = f.readline()\n",
    "graph = de_bruijn_graph(k, string)\n",
    "with open('answer_199_6.txt', 'w') as f:\n",
    "    for pattern, adjacencies in graph.items():\n",
    "        if len(adjacencies) > 0:\n",
    "            f.write(pattern + ' -> ' + ','.join(adjacencies) + '\\n')"
   ]
  },
  {
   "cell_type": "markdown",
   "metadata": {},
   "source": [
    "## DeBruijn Graph from k-mers "
   ]
  },
  {
   "cell_type": "code",
   "execution_count": 60,
   "metadata": {},
   "outputs": [],
   "source": [
    "def graph_from_kmers(kmers):\n",
    "    pre_su = set()\n",
    "    for kmer in kmers:\n",
    "        pre_su.add(kmer[1:])\n",
    "        pre_su.add(kmer[:-1])\n",
    "    pre_su = list(pre_su)\n",
    "    graph = dict((p_s, list()) for p_s in pre_su)\n",
    "    for kmer in kmers:\n",
    "        graph[kmer[:-1]].append(kmer[1:])\n",
    "    return graph"
   ]
  },
  {
   "cell_type": "code",
   "execution_count": 66,
   "metadata": {},
   "outputs": [],
   "source": [
    "def printing_dict(dic):\n",
    "    for pattern, adjacencies in dic.items():\n",
    "        if len(adjacencies) > 0:\n",
    "            print(pattern + ' -> ' + ','.join(adjacencies))"
   ]
  },
  {
   "cell_type": "code",
   "execution_count": 67,
   "metadata": {},
   "outputs": [
    {
     "name": "stdout",
     "output_type": "stream",
     "text": [
      "GAG -> AGG\n",
      "GGG -> GGG,GGA\n",
      "GGA -> GAG\n",
      "AGG -> GGG\n",
      "CAG -> AGG,AGG\n"
     ]
    }
   ],
   "source": [
    "kmers = ['GAGG', 'CAGG', 'GGGG', 'GGGA', 'CAGG', 'AGGG', 'GGAG']\n",
    "printing_dict(graph_from_kmers(kmers))"
   ]
  },
  {
   "cell_type": "code",
   "execution_count": 68,
   "metadata": {},
   "outputs": [],
   "source": [
    "with open('dataset_200_8.txt', 'r') as f:\n",
    "    strings = list(map(lambda x: x.strip(), f.readlines()))\n",
    "graph = graph_from_kmers(strings)\n",
    "with open('answer_200_8.txt', 'w') as f:\n",
    "    for pattern, adjacencies in graph.items():\n",
    "        if len(adjacencies) > 0:\n",
    "            f.write(pattern + ' -> ' + ','.join(adjacencies) + '\\n')"
   ]
  }
 ],
 "metadata": {
  "kernelspec": {
   "display_name": "Python 3",
   "language": "python",
   "name": "python3"
  },
  "language_info": {
   "codemirror_mode": {
    "name": "ipython",
    "version": 3
   },
   "file_extension": ".py",
   "mimetype": "text/x-python",
   "name": "python",
   "nbconvert_exporter": "python",
   "pygments_lexer": "ipython3",
   "version": "3.7.6"
  }
 },
 "nbformat": 4,
 "nbformat_minor": 4
}
