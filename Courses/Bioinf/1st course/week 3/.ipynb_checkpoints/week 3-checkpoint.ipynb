{
 "cells": [
  {
   "cell_type": "markdown",
   "metadata": {},
   "source": [
    "## MotifEnumeration\n",
    "\n",
    "**Sample Input:\n",
    "\n",
    "3 1\n",
    "\n",
    "ATTTGGC\n",
    "\n",
    "TGCCTTA\n",
    "\n",
    "CGGTATC\n",
    "\n",
    "GAAAATT\n",
    "\n",
    "**Sample Output:**\n",
    "\n",
    "ATA ATT GTT TTT"
   ]
  },
  {
   "cell_type": "code",
   "execution_count": null,
   "metadata": {},
   "outputs": [],
   "source": []
  }
 ],
 "metadata": {
  "kernelspec": {
   "display_name": "Python 3",
   "language": "python",
   "name": "python3"
  },
  "language_info": {
   "codemirror_mode": {
    "name": "ipython",
    "version": 3
   },
   "file_extension": ".py",
   "mimetype": "text/x-python",
   "name": "python",
   "nbconvert_exporter": "python",
   "pygments_lexer": "ipython3",
   "version": "3.7.6"
  }
 },
 "nbformat": 4,
 "nbformat_minor": 4
}
