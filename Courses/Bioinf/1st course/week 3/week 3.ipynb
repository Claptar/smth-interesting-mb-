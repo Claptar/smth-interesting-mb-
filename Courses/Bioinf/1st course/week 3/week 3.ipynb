{
 "cells": [
  {
   "cell_type": "markdown",
   "metadata": {},
   "source": [
    "## MotifEnumeration\n",
    "Implement MotifEnumeration (reproduced below).\n",
    "\n",
    "    Input: Integers k and d, followed by a collection of strings Dna.\n",
    "    Output: All (k, d)-motifs in Dna.\n",
    "\n",
    "---\n",
    "**Sample Input:**\n",
    "\n",
    "3 1\n",
    "\n",
    "ATTTGGC\n",
    "\n",
    "TGCCTTA\n",
    "\n",
    "CGGTATC\n",
    "\n",
    "GAAAATT\n",
    "\n",
    "---\n",
    "**Sample Output:**\n",
    "\n",
    "ATA ATT GTT TTT"
   ]
  },
  {
   "cell_type": "code",
   "execution_count": 1,
   "metadata": {},
   "outputs": [],
   "source": [
    "def HammingDistance(p, q):\n",
    "    num = 0\n",
    "    for i in range(len(p)):\n",
    "        if p[i] != q[i]:\n",
    "            num += 1\n",
    "    return num"
   ]
  },
  {
   "cell_type": "code",
   "execution_count": 10,
   "metadata": {},
   "outputs": [],
   "source": [
    "def ApproximatePatternCount(Text, Pattern, d):\n",
    "    count = 0\n",
    "    for i in range(len(Text) - len(Pattern) + 1):\n",
    "        if HammingDistance(Text[i:i + len(Pattern)], Pattern) <= d:\n",
    "            count += 1\n",
    "    return count"
   ]
  },
  {
   "cell_type": "code",
   "execution_count": 2,
   "metadata": {},
   "outputs": [],
   "source": [
    "def Neighbors(Pattern, d):\n",
    "    if d == 0:\n",
    "        return {Pattern}\n",
    "    if len(Pattern) == 1:\n",
    "        return {'A', 'C', 'G', 'T'}\n",
    "    Neighborhood = set()\n",
    "    suff = Pattern[1:]\n",
    "    SuffixNeighbors = Neighbors(suff, d)\n",
    "    for neib in SuffixNeighbors:\n",
    "        if HammingDistance(neib, suff) < d:\n",
    "            for x in ['A', 'C', 'G', 'T']:\n",
    "                Neighborhood.add(x + neib)\n",
    "        else:\n",
    "            Neighborhood.add(Pattern[0] + neib)\n",
    "    return list(Neighborhood)"
   ]
  },
  {
   "cell_type": "code",
   "execution_count": 12,
   "metadata": {},
   "outputs": [],
   "source": [
    "def MotifEnumeration(dna, k, d):\n",
    "    Patterns = set()\n",
    "    string = ''.join(dna)\n",
    "    for i in range(len(string) - k + 1):\n",
    "        for pat in Neighbors(string[i:i + k], d):\n",
    "            if all(ApproximatePatternCount(x, pat, d) for x in dna):\n",
    "                Patterns.add(pat)\n",
    "    return list(Patterns)"
   ]
  },
  {
   "cell_type": "code",
   "execution_count": 13,
   "metadata": {},
   "outputs": [
    {
     "data": {
      "text/plain": [
       "['ATA', 'GTT', 'TTT', 'ATT']"
      ]
     },
     "execution_count": 13,
     "metadata": {},
     "output_type": "execute_result"
    }
   ],
   "source": [
    "k = 3\n",
    "d = 1\n",
    "dna = ['ATTTGGC', 'TGCCTTA', 'CGGTATC', 'GAAAATT']\n",
    "MotifEnumeration(dna, k, d)"
   ]
  },
  {
   "cell_type": "code",
   "execution_count": 23,
   "metadata": {
    "scrolled": true
   },
   "outputs": [
    {
     "name": "stdout",
     "output_type": "stream",
     "text": [
      "GGACA GGACT GGACC GACAA GGACG GACCA CAATT ACAAT TGGAC\n"
     ]
    }
   ],
   "source": [
    "with open('dataset_156_8.txt', 'r') as f:\n",
    "    k, d = map(int, f.readline().strip().split(' '))\n",
    "    dna = list(map(lambda x: x.strip(), f.readlines()))\n",
    "print(' '.join(MotifEnumeration(dna, k, d)))"
   ]
  },
  {
   "cell_type": "markdown",
   "metadata": {},
   "source": [
    "## MedianString"
   ]
  },
  {
   "cell_type": "markdown",
   "metadata": {},
   "source": [
    "     Input: An integer k, followed by a collection of strings Dna.\n",
    "     Output: A k-mer Pattern that minimizes d(Pattern, Dna) among all k-mers Pattern. (If there are multiple such strings Pattern, then you may return any one.)\n",
    "     \n",
    "---\n",
    "**Sample Input:**\n",
    "\n",
    "3\n",
    "\n",
    "AAATTGACGCAT\n",
    "\n",
    "GACGACCACGTT\n",
    "\n",
    "CGTCAGCGCCTG\n",
    "\n",
    "GCTGAGCACCGG\n",
    "\n",
    "AGTACGGGACAG\n",
    "\n",
    "---\n",
    "**Sample Output:**\n",
    "\n",
    "ACG"
   ]
  },
  {
   "cell_type": "code",
   "execution_count": 30,
   "metadata": {},
   "outputs": [],
   "source": [
    "def NumberToPattern(num, k):\n",
    "    slovar = {0: \"A\", 1: \"C\", 2: \"G\", 3: \"T\"}\n",
    "    pattern = ''\n",
    "    while num > 3:\n",
    "        pattern += slovar[num % 4]\n",
    "        num = num // 4\n",
    "        if num < 4:\n",
    "            pattern += slovar[num]\n",
    "    return 'A' * (k - len(pattern)) + pattern[::-1]"
   ]
  },
  {
   "cell_type": "code",
   "execution_count": 28,
   "metadata": {},
   "outputs": [],
   "source": [
    "def Distance(Pattern, Dna):\n",
    "    dist = 0\n",
    "    for string in Dna:\n",
    "        dist_s = len(string)\n",
    "        for i in range(len(string) - len(Pattern) + 1):\n",
    "            if HammingDistance(Pattern, string[i:i + len(Pattern)]) < dist_s:\n",
    "                dist_s = HammingDistance(Pattern, string[i:i + len(Pattern)])\n",
    "        dist += dist_s\n",
    "    return dist"
   ]
  },
  {
   "cell_type": "code",
   "execution_count": 37,
   "metadata": {},
   "outputs": [],
   "source": [
    "def MedianString(Dna, k):\n",
    "    disnance = len(Dna[0])\n",
    "    med = ''\n",
    "    for i in range(4 ** k):\n",
    "        patt = NumberToPattern(i, k)\n",
    "        d = Distance(patt, Dna)\n",
    "        if disnance > d:\n",
    "            disnance = d\n",
    "            med = patt\n",
    "    return med"
   ]
  },
  {
   "cell_type": "code",
   "execution_count": 38,
   "metadata": {},
   "outputs": [
    {
     "data": {
      "text/plain": [
       "'ACG'"
      ]
     },
     "execution_count": 38,
     "metadata": {},
     "output_type": "execute_result"
    }
   ],
   "source": [
    "k = 3\n",
    "dna = ['AAATTGACGCAT','GACGACCACGTT','CGTCAGCGCCTG','GCTGAGCACCGG','AGTACGGGACAG']\n",
    "MedianString(dna, k)"
   ]
  },
  {
   "cell_type": "code",
   "execution_count": 41,
   "metadata": {},
   "outputs": [
    {
     "data": {
      "text/plain": [
       "'CATGAA'"
      ]
     },
     "execution_count": 41,
     "metadata": {},
     "output_type": "execute_result"
    }
   ],
   "source": [
    "with open('dataset_158_9.txt', 'r') as f:\n",
    "    k = int(f.readline().strip())\n",
    "    dna = list(map(lambda x: x.strip(), f.readlines()))\n",
    "MedianString(dna, k)"
   ]
  }
 ],
 "metadata": {
  "kernelspec": {
   "display_name": "Python 3",
   "language": "python",
   "name": "python3"
  },
  "language_info": {
   "codemirror_mode": {
    "name": "ipython",
    "version": 3
   },
   "file_extension": ".py",
   "mimetype": "text/x-python",
   "name": "python",
   "nbconvert_exporter": "python",
   "pygments_lexer": "ipython3",
   "version": "3.7.6"
  }
 },
 "nbformat": 4,
 "nbformat_minor": 4
}
