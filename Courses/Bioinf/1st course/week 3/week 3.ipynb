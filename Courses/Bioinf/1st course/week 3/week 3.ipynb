{
 "cells": [
  {
   "cell_type": "markdown",
   "metadata": {
    "slideshow": {
     "slide_type": "slide"
    }
   },
   "source": [
    "## MotifEnumeration\n",
    "Implement MotifEnumeration (reproduced below).\n",
    "\n",
    "    Input: Integers k and d, followed by a collection of strings Dna.\n",
    "    Output: All (k, d)-motifs in Dna.\n",
    "\n",
    "---\n",
    "**Sample Input:**\n",
    "\n",
    "3 1\n",
    "\n",
    "ATTTGGC\n",
    "\n",
    "TGCCTTA\n",
    "\n",
    "CGGTATC\n",
    "\n",
    "GAAAATT\n",
    "\n",
    "---\n",
    "**Sample Output:**\n",
    "\n",
    "ATA ATT GTT TTT"
   ]
  },
  {
   "cell_type": "code",
   "execution_count": 1,
   "metadata": {},
   "outputs": [],
   "source": [
    "def HammingDistance(p, q):\n",
    "    num = 0\n",
    "    for i in range(len(p)):\n",
    "        if p[i] != q[i]:\n",
    "            num += 1\n",
    "    return num"
   ]
  },
  {
   "cell_type": "code",
   "execution_count": 2,
   "metadata": {},
   "outputs": [],
   "source": [
    "def ApproximatePatternCount(Text, Pattern, d):\n",
    "    count = 0\n",
    "    for i in range(len(Text) - len(Pattern) + 1):\n",
    "        if HammingDistance(Text[i:i + len(Pattern)], Pattern) <= d:\n",
    "            count += 1\n",
    "    return count"
   ]
  },
  {
   "cell_type": "code",
   "execution_count": 3,
   "metadata": {},
   "outputs": [],
   "source": [
    "def Neighbors(Pattern, d):\n",
    "    if d == 0:\n",
    "        return {Pattern}\n",
    "    if len(Pattern) == 1:\n",
    "        return {'A', 'C', 'G', 'T'}\n",
    "    Neighborhood = set()\n",
    "    suff = Pattern[1:]\n",
    "    SuffixNeighbors = Neighbors(suff, d)\n",
    "    for neib in SuffixNeighbors:\n",
    "        if HammingDistance(neib, suff) < d:\n",
    "            for x in ['A', 'C', 'G', 'T']:\n",
    "                Neighborhood.add(x + neib)\n",
    "        else:\n",
    "            Neighborhood.add(Pattern[0] + neib)\n",
    "    return list(Neighborhood)"
   ]
  },
  {
   "cell_type": "code",
   "execution_count": 4,
   "metadata": {},
   "outputs": [],
   "source": [
    "def MotifEnumeration(dna, k, d):\n",
    "    Patterns = set()\n",
    "    string = ''.join(dna)\n",
    "    for i in range(len(string) - k + 1):\n",
    "        for pat in Neighbors(string[i:i + k], d):\n",
    "            if all(ApproximatePatternCount(x, pat, d) for x in dna):\n",
    "                Patterns.add(pat)\n",
    "    return list(Patterns)"
   ]
  },
  {
   "cell_type": "code",
   "execution_count": 5,
   "metadata": {},
   "outputs": [
    {
     "data": {
      "text/plain": [
       "['GTT', 'ATA', 'TTT', 'ATT']"
      ]
     },
     "execution_count": 5,
     "metadata": {},
     "output_type": "execute_result"
    }
   ],
   "source": [
    "k = 3\n",
    "d = 1\n",
    "dna = ['ATTTGGC', 'TGCCTTA', 'CGGTATC', 'GAAAATT']\n",
    "MotifEnumeration(dna, k, d)"
   ]
  },
  {
   "cell_type": "code",
   "execution_count": 6,
   "metadata": {
    "scrolled": true
   },
   "outputs": [
    {
     "name": "stdout",
     "output_type": "stream",
     "text": [
      "CAATT TGGAC GACAA GACCA GGACT ACAAT GGACC GGACG GGACA\n"
     ]
    }
   ],
   "source": [
    "with open('data/dataset_156_8.txt', 'r') as f:\n",
    "    k, d = map(int, f.readline().strip().split(' '))\n",
    "    dna = list(map(lambda x: x.strip(), f.readlines()))\n",
    "print(' '.join(MotifEnumeration(dna, k, d)))"
   ]
  },
  {
   "cell_type": "markdown",
   "metadata": {},
   "source": [
    "## MedianString"
   ]
  },
  {
   "cell_type": "markdown",
   "metadata": {},
   "source": [
    "     Input: An integer k, followed by a collection of strings Dna.\n",
    "     Output: A k-mer Pattern that minimizes d(Pattern, Dna) among all k-mers Pattern. (If there are multiple such strings Pattern, then you may return any one.)\n",
    "     \n",
    "---\n",
    "**Sample Input:**\n",
    "\n",
    "3\n",
    "\n",
    "AAATTGACGCAT\n",
    "\n",
    "GACGACCACGTT\n",
    "\n",
    "CGTCAGCGCCTG\n",
    "\n",
    "GCTGAGCACCGG\n",
    "\n",
    "AGTACGGGACAG\n",
    "\n",
    "---\n",
    "**Sample Output:**\n",
    "\n",
    "ACG"
   ]
  },
  {
   "cell_type": "code",
   "execution_count": 7,
   "metadata": {},
   "outputs": [],
   "source": [
    "def NumberToPattern(num, k):\n",
    "    slovar = {0: \"A\", 1: \"C\", 2: \"G\", 3: \"T\"}\n",
    "    pattern = ''\n",
    "    while num > 3:\n",
    "        pattern += slovar[num % 4]\n",
    "        num = num // 4\n",
    "        if num < 4:\n",
    "            pattern += slovar[num]\n",
    "    return 'A' * (k - len(pattern)) + pattern[::-1]"
   ]
  },
  {
   "cell_type": "code",
   "execution_count": 8,
   "metadata": {},
   "outputs": [],
   "source": [
    "def Distance(Pattern, Dna):\n",
    "    dist = 0\n",
    "    for string in Dna:\n",
    "        dist_s = len(string)\n",
    "        for i in range(len(string) - len(Pattern) + 1):\n",
    "            if HammingDistance(Pattern, string[i:i + len(Pattern)]) < dist_s:\n",
    "                dist_s = HammingDistance(Pattern, string[i:i + len(Pattern)])\n",
    "        dist += dist_s\n",
    "    return dist"
   ]
  },
  {
   "cell_type": "code",
   "execution_count": 9,
   "metadata": {},
   "outputs": [],
   "source": [
    "def MedianString(Dna, k):\n",
    "    disnance = len(Dna[0])\n",
    "    med = ''\n",
    "    for i in range(4 ** k):\n",
    "        patt = NumberToPattern(i, k)\n",
    "        d = Distance(patt, Dna)\n",
    "        if disnance > d:\n",
    "            disnance = d\n",
    "            med = patt\n",
    "    return med"
   ]
  },
  {
   "cell_type": "code",
   "execution_count": 10,
   "metadata": {},
   "outputs": [
    {
     "data": {
      "text/plain": [
       "'ACG'"
      ]
     },
     "execution_count": 10,
     "metadata": {},
     "output_type": "execute_result"
    }
   ],
   "source": [
    "k = 3\n",
    "dna = ['AAATTGACGCAT','GACGACCACGTT','CGTCAGCGCCTG','GCTGAGCACCGG','AGTACGGGACAG']\n",
    "MedianString(dna, k)"
   ]
  },
  {
   "cell_type": "code",
   "execution_count": 11,
   "metadata": {},
   "outputs": [
    {
     "data": {
      "text/plain": [
       "'CATGAA'"
      ]
     },
     "execution_count": 11,
     "metadata": {},
     "output_type": "execute_result"
    }
   ],
   "source": [
    "with open('data/dataset_158_9.txt', 'r') as f:\n",
    "    k = int(f.readline().strip())\n",
    "    dna = list(map(lambda x: x.strip(), f.readlines()))\n",
    "MedianString(dna, k)"
   ]
  },
  {
   "cell_type": "markdown",
   "metadata": {},
   "source": [
    "##  Greedy Motif Search"
   ]
  },
  {
   "cell_type": "markdown",
   "metadata": {},
   "source": [
    "Given a profile matrix Profile, we can evaluate the probability of every k-mer in a string Text and find a Profile-most probable k-mer in Text, i.e., a k-mer that was most likely to have been generated by Profile among all k-mers in Text. For example, ACGGGGATTACC is the Profile-most probable 12-mer in GGTACGGGGATTACCT. Indeed, every other 12-mer in this string has probability 0. In general, if there are multiple Profile-most probable k-mers in Text, then we select the first such k-mer occurring in Text.\n",
    "\n",
    "Profile-most Probable k-mer Problem: Find a Profile-most probable k-mer in a string.\n",
    "\n",
    "    Input: A string Text, an integer k, and a 4 × k matrix Profile.\n",
    "    Output: A Profile-most probable k-mer in Text.\n",
    "    \n",
    "---"
   ]
  },
  {
   "cell_type": "markdown",
   "metadata": {},
   "source": [
    "**Sample Input:**\n",
    "\n",
    "    ACCTGTTTATTGCCTAAGTTCCGAACAAACCCAATATAGCCCGAGGGCCT\n",
    "    5\n",
    "    0.2 0.2 0.3 0.2 0.3\n",
    "    0.4 0.3 0.1 0.5 0.1\n",
    "    0.3 0.3 0.5 0.2 0.4\n",
    "    0.1 0.2 0.1 0.1 0.2\n",
    "\n",
    "---\n",
    "**Sample Output:**\n",
    "\n",
    "    CCGAG\n",
    "---"
   ]
  },
  {
   "cell_type": "code",
   "execution_count": 13,
   "metadata": {},
   "outputs": [],
   "source": [
    "def Profile(matrix, k_mer):\n",
    "    score = 1\n",
    "    for i in range(len(k_mer)):\n",
    "        score *= matrix[k_mer[i]][i]\n",
    "    return score"
   ]
  },
  {
   "cell_type": "code",
   "execution_count": 14,
   "metadata": {},
   "outputs": [
    {
     "data": {
      "text/plain": [
       "0.0048000000000000004"
      ]
     },
     "execution_count": 14,
     "metadata": {},
     "output_type": "execute_result"
    }
   ],
   "source": [
    "matrix = {\n",
    "    'A': [0.2, 0.2, 0.3, 0.2, 0.3],\n",
    "    'C': [0.4, 0.3, 0.1, 0.5, 0.1],\n",
    "    'G': [0.3, 0.3, 0.5, 0.2, 0.4],\n",
    "    'T': [0.1, 0.2, 0.1, 0.1, 0.2]\n",
    "}\n",
    "k_mer = 'CCGAG'\n",
    "Profile(matrix, k_mer)"
   ]
  },
  {
   "cell_type": "code",
   "execution_count": 15,
   "metadata": {},
   "outputs": [],
   "source": [
    "def ProfileMostProbableKmer(text, k, profile):\n",
    "    prob = 0\n",
    "    k_best = ''\n",
    "    for i in range(len(text) - k + 1):\n",
    "        k_mer = text[i:i + k]\n",
    "        if Profile(profile, k_mer) > prob:\n",
    "            prob = Profile(profile, k_mer)\n",
    "            k_best = k_mer\n",
    "    return k_best"
   ]
  },
  {
   "cell_type": "code",
   "execution_count": null,
   "outputs": [],
   "source": [
    "text = 'ACCTGTTTATTGCCTAAGTTCCGAACAAACCCAATATAGCCCGAGGGCCT'\n",
    "ProfileMostProbableKmer(text, 5, matrix)"
   ],
   "metadata": {
    "collapsed": false,
    "pycharm": {
     "name": "#%%\n"
    }
   }
  },
  {
   "cell_type": "code",
   "execution_count": 16,
   "metadata": {},
   "outputs": [
    {
     "data": {
      "text/plain": [
       "'CCGAG'"
      ]
     },
     "execution_count": 16,
     "metadata": {},
     "output_type": "execute_result"
    }
   ],
   "source": [
    "text = 'ACCTGTTTATTGCCTAAGTTCCGAACAAACCCAATATAGCCCGAGGGCCT'\n",
    "ProfileMostProbableKmer(text, 5, matrix)"
   ]
  }
 ],
 "metadata": {
  "kernelspec": {
   "display_name": "Python 3",
   "language": "python",
   "name": "python3"
  },
  "language_info": {
   "codemirror_mode": {
    "name": "ipython",
    "version": 3
   },
   "file_extension": ".py",
   "mimetype": "text/x-python",
   "name": "python",
   "nbconvert_exporter": "python",
   "pygments_lexer": "ipython3",
   "version": "3.7.6"
  },
  "pycharm": {
   "stem_cell": {
    "cell_type": "raw",
    "source": [],
    "metadata": {
     "collapsed": false
    }
   }
  }
 },
 "nbformat": 4,
 "nbformat_minor": 4
}