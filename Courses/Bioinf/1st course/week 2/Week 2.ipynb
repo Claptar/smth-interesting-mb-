{
 "cells": [
  {
   "cell_type": "markdown",
   "metadata": {},
   "source": [
    "## <font color='blue'>Minimum Skew Problem: </font>\n",
    "\n",
    "Find a position in a genome minimizing the skew.\n",
    "\n",
    "     Input: A DNA string Genome.\n",
    "     Output: All integer(s) i minimizing Skewi (Genome) among all values of i (from 0 to |Genome|).\n",
    "\n",
    "\n",
    "---\n",
    "**Sample Input:**\n",
    "\n",
    "TAAAGACTGCCGAGAGGCCAACACGAGTGCTAGAACGAGGGGCGTAAACGCGGGTCCGAT\n",
    "\n",
    "---\n",
    "**Sample Output:**\n",
    "\n",
    "11 24\n"
   ]
  },
  {
   "cell_type": "code",
   "execution_count": 46,
   "metadata": {},
   "outputs": [],
   "source": [
    "def MinimumSkew(Genome):\n",
    "    num = [0]\n",
    "    mins = []\n",
    "    minim = 0\n",
    "    for i in range(len(Genome)):\n",
    "        if Genome[i] == 'G':\n",
    "            num.append(num[i] + 1)\n",
    "            if (i > 0) and (num[i - 1] > num[i]) and (num[i + 1] > num[i]):\n",
    "                if minim == 0 or num[i] < num[minim]:\n",
    "                    minim = i\n",
    "                    mins = [i]\n",
    "                elif num[i] == num[minim]:\n",
    "                    mins.append(i)\n",
    "        elif Genome[i] == 'C':\n",
    "            num.append(num[i] - 1)\n",
    "        else:\n",
    "            num.append(num[i])\n",
    "    return num, mins"
   ]
  },
  {
   "cell_type": "code",
   "execution_count": 48,
   "metadata": {},
   "outputs": [
    {
     "name": "stdout",
     "output_type": "stream",
     "text": [
      "[11, 24]\n"
     ]
    }
   ],
   "source": [
    "Genome = 'TAAAGACTGCCGAGAGGCCAACACGAGTGCTAGAACGAGGGGCGTAAACGCGGGTCCGAT'\n",
    "num, mins = MinimumSkew(Genome)\n",
    "print(mins)"
   ]
  },
  {
   "cell_type": "code",
   "execution_count": 52,
   "metadata": {},
   "outputs": [],
   "source": [
    "with open('dataset_7_6.txt', 'r') as f:\n",
    "    Genome = f.read().strip()"
   ]
  },
  {
   "cell_type": "code",
   "execution_count": 53,
   "metadata": {},
   "outputs": [
    {
     "name": "stdout",
     "output_type": "stream",
     "text": [
      "54680\n"
     ]
    }
   ],
   "source": [
    "num, mins = MinimumSkew(Genome)\n",
    "print(' '.join(map(str, mins)))"
   ]
  },
  {
   "cell_type": "code",
   "execution_count": 54,
   "metadata": {},
   "outputs": [
    {
     "data": {
      "text/plain": [
       "[<matplotlib.lines.Line2D at 0x28a065a0d08>,\n",
       " <matplotlib.lines.Line2D at 0x28a065a0fc8>]"
      ]
     },
     "execution_count": 54,
     "metadata": {},
     "output_type": "execute_result"
    },
    {
     "data": {
      "image/png": "[encoded data removed]",
      "text/plain": [
       "<Figure size 432x288 with 1 Axes>"
      ]
     },
     "metadata": {
      "needs_background": "light"
     },
     "output_type": "display_data"
    }
   ],
   "source": [
    "import matplotlib.pyplot as plt\n",
    "plt.plot(range(len(num)), num,'-', mins, [num[x] for x in mins],  'o')"
   ]
  },
  {
   "cell_type": "markdown",
   "metadata": {},
   "source": [
    "## <font color='blue'>Hamming Distance Problem: </font>\n",
    "\n",
    "Compute the Hamming distance between two strings.\n",
    "\n",
    "     Input: Two strings of equal length.\n",
    "     Output: The Hamming distance between these strings.\n",
    "     \n",
    "---\n",
    "\n",
    "**Sample Input:**\n",
    "\n",
    "GGGCCGTTGGT\n",
    "GGACCGTTGAC\n",
    "\n",
    "---\n",
    "**Sample Output:**\n",
    "\n",
    "3"
   ]
  },
  {
   "cell_type": "code",
   "execution_count": 2,
   "metadata": {},
   "outputs": [],
   "source": [
    "def HammingDistance(p, q):\n",
    "    num = 0\n",
    "    for i in range(len(p)):\n",
    "        if p[i] != q[i]:\n",
    "            num += 1\n",
    "    return num"
   ]
  },
  {
   "cell_type": "code",
   "execution_count": 2,
   "metadata": {},
   "outputs": [
    {
     "data": {
      "text/plain": [
       "3"
      ]
     },
     "execution_count": 2,
     "metadata": {},
     "output_type": "execute_result"
    }
   ],
   "source": [
    "p = 'GGGCCGTTGGT'\n",
    "q = 'GGACCGTTGAC'\n",
    "HammingDistance(p, q)"
   ]
  },
  {
   "cell_type": "code",
   "execution_count": 3,
   "metadata": {},
   "outputs": [
    {
     "data": {
      "text/plain": [
       "760"
      ]
     },
     "execution_count": 3,
     "metadata": {},
     "output_type": "execute_result"
    }
   ],
   "source": [
    "with open('dataset_9_3.txt', 'r') as f:\n",
    "    p = f.readline().strip()\n",
    "    q = f.readline().strip()\n",
    "HammingDistance(p, q)"
   ]
  },
  {
   "cell_type": "markdown",
   "metadata": {},
   "source": [
    "## <font color='blue'>Approximate Pattern Matching Problem: </font>\n",
    "\n",
    "Find all approximate occurrences of a pattern in a string.\n",
    "\n",
    "     Input: Strings Pattern and Text along with an integer d.\n",
    "     Output: All starting positions where Pattern appears as a substring of Text with at most d mismatches.\n",
    "     \n",
    "---\n",
    "\n",
    "**Sample Input:**\n",
    "\n",
    "ATTCTGGA\n",
    "\n",
    "CGCCCGAATCCAGAACGCATTCCCATATTTCGGGACCACTGGCCTCCACGGTACGGACGTCAATCAAAT\n",
    "\n",
    "3\n",
    "\n",
    "---\n",
    "\n",
    "**Sample Output:**\n",
    "\n",
    "6 7 26 27"
   ]
  },
  {
   "cell_type": "code",
   "execution_count": 10,
   "metadata": {},
   "outputs": [],
   "source": [
    "def ApproximatePatternMatching(Text, Pattern, d):\n",
    "    positions = []\n",
    "    for i in range(len(Text) - len(Pattern) + 1):\n",
    "        if HammingDistance(Text[i:i + len(Pattern)], Pattern) <= d:\n",
    "            positions.append(i)\n",
    "    return positions"
   ]
  },
  {
   "cell_type": "code",
   "execution_count": 11,
   "metadata": {},
   "outputs": [
    {
     "data": {
      "text/plain": [
       "[6, 7, 26, 27]"
      ]
     },
     "execution_count": 11,
     "metadata": {},
     "output_type": "execute_result"
    }
   ],
   "source": [
    "Text = 'CGCCCGAATCCAGAACGCATTCCCATATTTCGGGACCACTGGCCTCCACGGTACGGACGTCAATCAAAT'\n",
    "Pattern = 'ATTCTGGA'\n",
    "d = 3\n",
    "ApproximatePatternMatching(Text, Pattern, d)"
   ]
  },
  {
   "cell_type": "code",
   "execution_count": 12,
   "metadata": {
    "collapsed": true
   },
   "outputs": [
    {
     "name": "stdout",
     "output_type": "stream",
     "text": [
      "6 33 56 57 126 178 185 192 204 213 220 223 227 231 251 281 365 370 402 450 470 513 535 560 577 588 615 630 693 714 732 752 773 813 830 852 880 884 937 961 1005 1029 1037 1062 1077 1083 1134 1136 1152 1163 1173 1186 1209 1239 1265 1300 1317 1372 1388 1406 1415 1455 1472 1496 1504 1542 1571 1585 1587 1612 1622 1668 1672 1679 1687 1700 1705 1722 1724 1761 1804 1808 1938 1946 2005 2016 2024 2047 2068 2091 2098 2104 2134 2162 2171 2181 2208 2219 2244 2252 2271 2275 2289 2321 2337 2363 2377 2386 2423 2427 2431 2450 2475 2500 2505 2517 2547 2558 2578 2599 2606 2620 2627 2636 2648 2683 2707 2710 2717 2726 2751 2791 2836 2864 2888 2997 3017 3090 3099 3104 3113 3126 3154 3163 3170 3174 3181 3182 3215 3218 3223 3235 3269 3281 3295 3312 3395 3399 3403 3413 3454 3517 3611 3664 3682 3699 3704 3759 3797 3804 3808 3840 3850 3920 3925 3937 3948 3955 3965 3979 3992 4015 4043 4048 4073 4080 4120 4137 4142 4184 4242 4246 4329 4353 4373 4401 4408 4429 4436 4482 4486 4498 4500 4504 4507 4590 4602 4626 4650 4658 4696 4722 4748 4772 4775 4797 4817 4865 4874 4887 4895 4899 4914 4931 4943 4948 4951 4955 4972 4979 4994 5061 5074 5096 5139 5147 5173 5199 5262 5280 5293 5305 5318 5337 5408 5430 5438 5445 5457 5462 5473 5492 5506 5539 5557 5558 5581 5609 5630 5641 5646 5671 5709 5745 5749 5768 5787 5804 5815 5831 5869 5877 5899 5929 5974 5984 6020 6074 6084 6088 6095 6108 6121 6128 6133 6138 6156 6160 6163 6171 6189 6210 6211 6244 6273 6296 6303 6318 6326 6335 6356 6370 6384 6417 6434 6439 6455 6480 6509 6565 6686 6720 6726 6750 6798 6825 6902 6904 6922 6926 6935 6973 6993 7072 7145 7146 7188 7210 7221 7239 7270 7282 7288 7318 7328 7342 7358 7383 7411 7460 7471 7482 7511 7553 7574 7581 7586 7618 7649 7685 7698 7730 7734 7768 7808 7815 7820 7874 7878 7922 7936 7975 7979 8028 8052 8073 8081 8135 8152 8187 8199 8229 8264 8267 8271 8290 8303 8323 8325 8367 8376 8403 8422 8458 8483 8494 8510 8548 8602 8640 8652 8659 8683 8690 8702 8729 8739 8750 8780 8805 8894 8913 8930 8963 8987 9022 9026 9040 9045 9064 9090 9114 9127 9232 9239 9275 9302 9357 9374 9428 9437 9452 9460 9480 9488 9510 9520 9524 9545 9571 9590 9600 9627 9634 9646 9691 9704 9742 9793 9797 9805 9826 9852 9874 9878 9898 9919 9923 9934 9954 9956 9972 9993 10019 10023 10071 10101 10139 10146 10169 10177 10196 10276 10287 10292 10319 10326 10334 10372 10395 10400 10423 10436 10453 10480 10565 10572 10598 10603 10617 10670 10689 10728 10732 10739 10749 10775 10832 10848 10851 10878 10926 10938 11017 11032 11036 11050 11070 11071 11110 11114 11142 11150 11155 11238 11256 11287 11316 11324 11326 11331 11335 11343 11366 11381 11408 11426 11452 11459 11470 11497 11528 11538 11552 11559 11588 11605 11618 11626 11679 11684 11688 11703 11712 11718 11724 11743 11755 11796 11804 11811 11815 11825 11857 11870 11924 11937 11958 11998 12005 12019 12057 12128 12138 12154 12171 12208 12217 12228 12241 12256 12258 12295 12306 12348 12358 12362 12373 12382 12386 12404 12407 12441 12450 12490 12495 12521 12525 12535 12579 12587 12594 12598 12664 12676 12711 12720 12770 12771 12790 12796 12842 12859 12863 12872 12881 12893 12942 12944 12951 12962 12969 12979 13000 13020 13030 13087 13091 13125 13149 13156 13157 13170 13181 13221 13228 13241 13248 13272 13285 13292 13305 13321 13331 13382 13398 13419 13435 13454 13478 13510 13533 13568 13594 13604 13627 13641 13669 13683 13710 13722 13729 13762 13766 13800 13807 13825 13832 13837 13846 13893 13914 13949 13953 13975 13980 13998 14002 14013 14016 14026 14038 14042 14051 14072 14107 14145 14185 14212 14219 14233 14243 14269 14317 14319 14346 14359 14367 14374 14379 14383 14421 14434 14442 14456 14467 14469 14499 14508 14512 14541 14545 14552 14583 14647 14679 14686 14751 14774 14802 14807 14809 14822 14842 14893 14898 14915 14949 14980 15001 15030 15056 15063 15074 15084 15107 15134 15143 15147 15148 15160 15173 15180 15201 15215 15231 15285 15298 15304 15346 15356 15384 15392 15439 15451 15461 15468 15472 15476 15492 15499 15505 15524 15547 15559 15580 15595 15600 15616 15624 15629 15655 15668 15672 15677 15726 15730 15751 15752 15761 15786 15838 15845 15857 15902 15910 15923 15934 15949 15954 15961 15975 15999 16013 16019 16030 16049 16053 16070 16075 16119 16120 16134 16138 16149 16195\n"
     ]
    }
   ],
   "source": [
    "with open('dataset_9_4.txt', 'r') as f:\n",
    "    Pattern = f.readline().strip()\n",
    "    Text = f.readline().strip()\n",
    "    d = int(f.readline().strip())\n",
    "print(' '.join(map(str, ApproximatePatternMatching(Text, Pattern, d))))"
   ]
  },
  {
   "cell_type": "markdown",
   "metadata": {},
   "source": [
    "## <font color='blue'>ApproximatePatternCount: </font>"
   ]
  },
  {
   "cell_type": "markdown",
   "metadata": {},
   "source": [
    "**Sample Input:**\n",
    "\n",
    "GAGG\n",
    "\n",
    "TTTAGAGCCTTCAGAGG\n",
    "\n",
    "2\n",
    "\n",
    "---\n",
    "**Sample Output:**\n",
    "\n",
    "4"
   ]
  },
  {
   "cell_type": "code",
   "execution_count": 11,
   "metadata": {},
   "outputs": [],
   "source": [
    "def ApproximatePatternCount(Text, Pattern, d):\n",
    "    count = 0\n",
    "    for i in range(len(Text) - len(Pattern) + 1):\n",
    "        if HammingDistance(Text[i:i + len(Pattern)], Pattern) <= d:\n",
    "            count += 1\n",
    "    return count"
   ]
  },
  {
   "cell_type": "code",
   "execution_count": 15,
   "metadata": {},
   "outputs": [
    {
     "data": {
      "text/plain": [
       "4"
      ]
     },
     "execution_count": 15,
     "metadata": {},
     "output_type": "execute_result"
    }
   ],
   "source": [
    "Text = 'TTTAGAGCCTTCAGAGG'\n",
    "Pattern = 'GAGG'\n",
    "d = 2\n",
    "ApproximatePatternCount(Text, Pattern, d)"
   ]
  },
  {
   "cell_type": "code",
   "execution_count": 16,
   "metadata": {},
   "outputs": [
    {
     "data": {
      "text/plain": [
       "145"
      ]
     },
     "execution_count": 16,
     "metadata": {},
     "output_type": "execute_result"
    }
   ],
   "source": [
    "with open('dataset_9_6.txt', 'r') as f:\n",
    "    Pattern = f.readline().strip()\n",
    "    Text = f.readline().strip()\n",
    "    d = int(f.readline().strip())\n",
    "ApproximatePatternCount(Text, Pattern, d)"
   ]
  },
  {
   "cell_type": "markdown",
   "metadata": {},
   "source": [
    "## <font color='blue'>Frequent Words with Mismatches Problem: </font>"
   ]
  },
  {
   "cell_type": "markdown",
   "metadata": {},
   "source": [
    " Find the most frequent k-mers with mismatches in a string.\n",
    " \n",
    "     Input: A string Text as well as integers k and d. (You may assume k ≤ 12 and d ≤ 3.)\n",
    "     Output: All most frequent k-mers with up to d mismatches in Text.\n",
    "---\n",
    "\n",
    "**Sample Input:**\n",
    "\n",
    "\n",
    "ACGTTGCATGTCGCATGATGCATGAGAGCT \n",
    "\n",
    "4 1\n",
    "\n",
    "---\n",
    "\n",
    "**Sample Output:**\n",
    "\n",
    "ATGC ATGT GATG"
   ]
  },
  {
   "cell_type": "code",
   "execution_count": 7,
   "metadata": {},
   "outputs": [],
   "source": [
    "def FrequentWordsWithMismatches(Text, k, d):\n",
    "    words = []\n",
    "    freq = {}\n",
    "    for i in range(len(Text) - k + 1):\n",
    "        word = Text[i:i + k]\n",
    "        if word not in words:\n",
    "            words.append(word)"
   ]
  },
  {
   "cell_type": "code",
   "execution_count": 8,
   "metadata": {},
   "outputs": [],
   "source": [
    "Text = 'ACGTTGCATGTCGCATGATGCATGAGAGCT'\n",
    "k = 4\n",
    "d = 1\n",
    "fr_w, words = FrequentWordsWithMismatches(Text, k, d)"
   ]
  },
  {
   "cell_type": "markdown",
   "metadata": {},
   "source": [
    "### <font color='purple'>Frequent Words with Mismatches Problem: </font>\n",
    "\n",
    "Implement **Neighbors** to find the d-neighborhood of a string.\n",
    "\n",
    "     Input: A string Pattern and an integer d.\n",
    "     Output: The collection of strings Neighbors(Pattern, d).\n",
    "---\n",
    "\n",
    "**Sample Input:**\n",
    "\n",
    "ACG\n",
    "\n",
    "1\n",
    "\n",
    "**Sample Output:**\n",
    "\n",
    "AAG\n",
    "ACG\n",
    "CCG\n",
    "AGG\n",
    "ACT\n",
    "GCG\n",
    "ATG\n",
    "ACC\n",
    "TCG\n",
    "ACA"
   ]
  },
  {
   "cell_type": "code",
   "execution_count": 13,
   "metadata": {},
   "outputs": [],
   "source": [
    "def Neighbors(Pattern, d):\n",
    "    if d == 0:\n",
    "        return {Pattern}\n",
    "    if len(Pattern) == 1:\n",
    "        return {'A', 'C', 'G', 'T'}\n",
    "    Neighborhood = set()\n",
    "    suff = Pattern[1:]\n",
    "    SuffixNeighbors = Neighbors(suff, d)\n",
    "    for neib in SuffixNeighbors:\n",
    "        if HammingDistance(neib, suff) < d:\n",
    "            for x in ['A', 'C', 'G', 'T']:\n",
    "                Neighborhood.add(x + neib)\n",
    "        else:\n",
    "            Neighborhood.add(Pattern[0] + neib)\n",
    "    return list(Neighborhood)"
   ]
  },
  {
   "cell_type": "code",
   "execution_count": 14,
   "metadata": {},
   "outputs": [
    {
     "data": {
      "text/plain": [
       "['AAG', 'ATG', 'ACC', 'ACT', 'ACG', 'AGG', 'CCG', 'ACA', 'GCG', 'TCG']"
      ]
     },
     "execution_count": 14,
     "metadata": {},
     "output_type": "execute_result"
    }
   ],
   "source": [
    "Pattern = 'ACG'\n",
    "d = 1\n",
    "Neighbors(Pattern, d)"
   ]
  },
  {
   "cell_type": "code",
   "execution_count": 15,
   "metadata": {
    "collapsed": true
   },
   "outputs": [
    {
     "name": "stdout",
     "output_type": "stream",
     "text": [
      "GGGCTCTA TAGTTCTT TGGTTTAG CGGTTAAA TCATTGGA TGCCTCAA TATTTTGA TCGCTCAA TCGTCCAA TGGATCGA TGACTCGC GGGTTTCA TTGTTTAA CGGTTTGC TAGATCAA TGATGCGG AGATTTGA TGGTTGAC TGGTAGAA GGCTTTGA TCTGTCGA CGGTTTCA TGTCTCAA CGCTTCAA TGTTGAGA TGGTGCTC CTGTTCTA CGGTCAGA TTGATCTA GGTCTCGA AGGTACGT CAGTTTGA GGGCTGGA TCGTGCGT TGGTGGGG TTTTTTGA TGGGACCA CGGTAGGA TACTACGA GGATTCCA TAATTCCA TGGCTGTA TGGTTCAC TGTTACGA AATTTCGA AGATTCGG CGTTCCGA GCGTTGGA TGTTTCAC TACTGCGA TAATTAGA AGGTTTGG TGGTTAGC GTGTTAGA CGGTTGGC TGCATCCA TGTATCGG TCTTTGGA TCTTTTGA TGACTCGA TGGACCGG AAGCTCGA TAGTGCAA TGGCTCGC TCGATCTA TCCTGCGA GCGTTCGC CGGTGCTA AGGTTAGG GGGTCCTA TTGTTCAC TGATTTGA TGGATGGA CGGTGCGA TGGCTAGG TCGCTCGT TCGAGCGA TGACTCGT TGTGTCTA TGTTTCCT TGGTGGGC GAGGTCGA TCTTACGA TTCATCGA CGGACCGA GGGTACGA AGGGTAGA TAGCTCAA AGGAGCGA TGTGTCGT GGGATCCA AGGATGGA TGTGTCGA TGGTAGCA AGCCTCGA TACGTCGA AGCTTTGA TGCTGCTA AGGTTCGT TCTTTCGA GGCTTCGT TGCTTCCA AGGTACGG AGTTTCAA AGGATCGC TTGTTCGA CGGTCCGC TCGTGCGC TAGTGCGG TTTTGCGA TGTTGCGT CGGTTCAT TGGCCCTA CGGTTCTT TGGCCCGA TTGTTGGC TTGTTCTA GGGTTCCG TGGTAAGT TCTTTCAA TCGATCCA TACTTCGT GGGATCTA AGGTACAA TATATCGA CGTTTCTA TGGCTAGC TAGATCGT TCGTGAGA GGCGTCGA GGCTTGGA TGTTACTA GAGTTCGA TGGTGTGA TTGGGCGA CGGTTACA TTTTTCTA ATGTCCGA TAGTTTTA CGGTGCGT GGGTCAGA CGGTACAA CGGTTTAA TGTTCGGA CGCTCCGA GGGATCGG TGTTCTGA TGTTTTGG GCGTTCGT TCGTGCCA TGCATCGG TGCTACCA TCGTTCGG TTGATCGA AGCTTCCA TAGTGCCA TGATTCTA ACATTCGA TAGTCAGA TTATGCGA TCGCTAGA CGCTTAGA TGAAGCGA ATGTGCGA AGTTTAGA TGATTAGT TGATCCCA TACTTCGC GACTTCGA AGATTCGC TGTTTCTC TGGTCCGG TTGGTCCA CGGTTCAC GGGTCCCA TGTTTGGC TAGGTAGA GTGCTCGA TTGTTTCA GGGCCCGA AGTCTCGA TAGCCCGA TGGCACGT TTGTACGG TGATTGGT CGATTCGG TGTTTCGA TGTATCCA CGGATCGG AAGTTCGT TGCCTCGA TCATTCCA TCTATCGA TGTTGCCA AGGTTGAA TCGCTCCA AGTGTCGA TGGGACGA TGGGTCAT CGGTTCGG ACGTTCGG CAGTACGA TGGATTCA TGTTTGTA TCGATCGA CGGATTGA GGGTTCTC AAGTGCGA CTGTTCAA ATGGTCGA TAGCTAGA AGTATCGA TAACTCGA AGGGCCGA CGTTGCGA TTGTCCCA TGGATCCG CGATGCGA TGGGTCAC CGTTTCGG TCGTGGGA TGATGCGC ACGTTCCA TGGCACGG TACTTCCA TCTTTCCA AGGTTAAA GCGTTAGA TTGTTGTA TGTGTGGA GGCTTCCA TTCTTCGA TCGGTCAA TGATATGA AGGTCCGC CGGTTCAG TGTTGCGC CGGCTCGT TTGTTGAA TTGTCTGA TGGTTAGG TGTCTCCA TTGTGAGA CAGGTCGA TGCTTGTA CGGTGAGA CGGTCCGT TGGTAAGC TCTTTAGA TGGGTAGT TGTTTTCA AAGTTCGG TGTTTTTA AGGTCCTA TGGATCGC CGGTTCCA CGGGACGA GCATTCGA AGCTTCGT TGATTCCA GGTTGCGA TAGATAGA TCGTTCAC TGGATTTA TAATCCGA GGGTTGTA GGGTACGC TGTATCGT TCTCTCGA TGATACCA TGGCGCGA TTGTTTGC CGGCTCTA ACGGTCGA TTGTGCCA GGCTTCAA CGGCACGA TGGTACGA TGGTAGGA TGGTTAAA AGGTTGGT AGGTTTTA TGGTTAGT TGCTTCTA GGGTAAGA AGTTTCGA TGCTTACA TGATACGC TGTGCCGA TACTCCGA AGGTTCCA TGCTATGA GTGTTCGG GAGTTGGA GGGGTCTA TTGTTGCA CAGTTGGA TGGCTCCC TGTTTCCG CGGCGCGA TAGTTTGG TGGTGCCA TAGTTTGC TTGGTGGA TGGGGCAA AGGTTCAC TGTTTCTG TGGCATGA TGGATCTT TCGTACCA CGTGTCGA GGGTTGCA AGGTTCGG TAGTCCCA TCTTTCGC TGTTGCGG TTGTAGGA TGAATCGG TGGTACAC TGGGACAA TGGTTCTG CGGGTCGA TGGTTTCC TCTTGCGA AGGCTCTA CAGTTAGA TCGATTGA GGCTTCGA CGGTTTGT TGATTTCA TAGTGCTA TGCTACGA AGTTTGGA AGCTTAGA TGATTCAG TGGCAGGA AGGTGCGC GAGTTCGC CGGTACTA AGGTGGGA TGATTTGG TAGTATGA TGTTAGGA TAGTCCAA TGAGTCTA AGGTTGGA TAGCTGGA TAGCTCGC TCGTTCCG TGGTCTGA TAGTTGGC TTAATCGA TGGACGGA TTATTCTA CTGGTCGA TTGTTCCA TTGTCCAA TGGCGGGA TGGGTGGA TGAGTCCA AGGCTCAA TATTGCGA TGGTTTTA TGGTCCAC TAGTTTGA CGTTTAGA CGCTTCGC TGCTTAAA CGTTTGGA TGGAGTGA TGGTGGGT TGGTTGTG TAGTTCGA TGGATAGG GGTTTAGA GAGTACGA AGGTTCAG TTGTACTA TAGGTCGC TCGATCGC TGGTCAGC TAGTACTA CCGTTCGC TGTTTAAA TTGTTTGG TGATGAGA TGATTCTC TGTTTACA CGGTTCCC AGGCTGGA TGGTTTGC TGGTTATC TTGTTAGC GGGGGCGA GGGTTAGC TCGTTCTA CGGTTGGG TACTTGGA TGTTTCGG TCGTCCGA CGCGTCGA TGATTAGG TCGTTCGA TGTTCCGG TGAAACGA TTCTTCGG TGGCTTCA TGGAGCGG TGCGTCAA GGGTTTGA TTTTTCGG AGCTTCTA TGATTGAA TAGGTCGT TTGCGCGA TAGTCCGC AAGTTGGA AGGGTCGC GTGTTCAA TGGTTCTT AGCTGCGA AGATTCGA CCGTTCGA TATTTCGA GGTTTCCA AGGTACGA GGGTTCTG TCCTTCGA CGGATCTA TAGTTCAC TGGAATGA TCGACCGA TGGGTGGG CGGGTTGA ACGATCGA GGGTTCCC TGCATGGA TGTTTGAA GGGTTAGT CCGTTCGG TCTTTCTA TATCTCGA TGCTTGGG TGGTTGTC TGATTGGA GGGTGTGA TGGTACGC GGGGTCGT TGGTCAGT TGGGGCGT TGGCTACA TGGTGTGC GCGCTCGA TGATTCGG TGCTACGG TGACCCGA ACCTTCGA TTGTGCGC CGACTCGA TAGCTCGT TGGTTGAG GGTGTCGA TGACTCTA CAGTTCGG AGGTTATA TGGTCTGC GGATTCGA TGGTCCAG TGCACCGA TGTTTCAT TGGATTGC GAGTGCGA CGCTTCCA TCATGCGA TTGTTGGG TGGTTCAT GGGGACGA TGGGTCTA TTATTCGG TTGTACCA TGGCTGGC TAATTCGC GGGCTCAA ATATTCGA TGCTTAGT TTGTTCAT GGGTTAGA GGTTCCGA TGCCTTGA TATTACGA GTGTACGA TTGTTAGA TGGTCAAA AGTTTCGT TAGAGCGA TGATAGGA TGTTGCGA CGGTTGTA TGAGTTGA TGATTTGT TTATTCAA TAGATCCA TGGTCGGA TCGCTCGA CCTTTCGA TCATTAGA CGGTACGG TGGTCGCA GGGTTGGT TTGGTCAA CGGTACGC TTGCTGGA TCGTTTGC TGATGCGA TGTGTCCA TGTTACGT TGATCCGG GGCTCCGA TGCGTGGA TGGTAAAA TGCTTCCC CAGTTCAA TGGTAAGA TAGCACGA CGGTTCTG GAGTTCGG TAGTGCGT AGGTTACA TCTTCCGA CGGCTAGA TGGGGCTA TTGCTCGA TGCATCAA CGGTTCGC TAGTCCGG TCGTCCCA AGGTTGCA GGGTTGGG CGGTTAGA TGAATCAA TGGTCAGA TGCTTCAA CGGTTCGA CGGTGCGG TTGTGCGA TGGCCCGG CGTTTCAA TGCGACGA TGCCTCGC TGGCTCTA TTGTTAGT TGGGCCCA GGTTTCGT TGTTTTGA TTGTTTGA CGGTTGGT ATGTTCGC TGGTGTAA TTGTCCGC TCGTTCCA TGTTCCGC GGGTTTTA TGCATCGA TGGTCCAA TGGATGGT CGGATCCA AGGCCCGA TGATCGGA TGATTCCG TCATTCGT TGGTATCA TGATTAGC AGGTTCAT TGGCTCAC GCGTTCTA ATGTTCGT TGGTTCTC CGGTCCTA TGGATAGC TGTTTGGA GGATTCTA TGCTCCGC GAGTTCCA TGCTTAGC TGGATCTG TGGTTCGG GGGTTCGA TGGCTCCA TGTTTCCC TAGCTCGA TGGTACTG AGGTTGGG TGGAACGT TGGTGCGC TGTGTCAA ATGATCGA CGGGTCCA TGGATCTA TGGGCCAA AGGTGCTA TACCTCGA TGATTTTA TGCTGCGG TGGTTTTT ATGTTCGA TGGTCTAA TGGTGCAG GTGTGCGA CGCTTCGG TGGTTCGA TTCTTGGA TGGTTGAA TTGTTCTC AGGTACGC TGGTTTAT GGTTTGGA AGGCTTGA TGGTAGGC TAGTTAGT GGGACCGA TAGGGCGA GGCCTCGA TGTTTGGG GAGTTTGA AGGCGCGA GGGTGCAA GTGTTCGA CGGTCTGA GGGATCGA GGGGTGGA TTCTCCGA TTCTTAGA ACGTTCAA GCCTTCGA TGCTCCGG TGTTGGGA TGGCTCTC TGGGTCCC TGGATCGT GGGTTACA TGGTAAGG TCCTTCCA TGGGTCAA TGGTCTTA TGGGTGGT GCGTCCGA TGGTTGTT TGGTGCCT TAGCTCGG TGGATCCT TGGTCGGC TGCGTAGA TGTATAGA TTGCTCTA TGTTACCA TTGTTCAA TGTATCGC GGGTCCGA TGTTTCTA TGGACCGT TGGTTATT TAGGTCCA TACTTCAA TGGTCCGC TGTATTGA TGAATCGA TGGTTGGG TGCTTCAC TAGTTCGG ACGTTTGA TGGTACAT TGGGGTGA GGTTTCGC TGTCTCGC CGGTATGA GGGTACGG TGGTTTGG TTTTTAGA TGCCTAGA TCGTACGC GGGGTCAA CGGTCCGG TCGTTCCT AGGGTCGG CGGTCCGA TGCCGCGA TCATTCGC TGATTCCT TGGCACGA GGGTCCGC CAGTCCGA CGATTAGA TAATTCAA TGGTGCAA TGGTTCGT CGATTCGC TGAGTAGA TGGCACCA CGGTTTGA CTGTTAGA TGCTGTGA TGCTGCGC TGGTAATA TCGTGCGA TGCTCTGA ATGTTCTA AGGTTAGC TGCTTAGA AGGTTCTG TGGGGGGA CGGTTAGT TTGCTCAA TGCTTTGG TAGTTAGG AGGTCCCA TTGTTCCT TGTCTGGA TGGTGAGC TTCTTCAA GTGTCCGA CCGTTCGT TAGCTTGA TAGTACGC TAGATCTA TGGTACCA TGGAGCCA CGGATCAA TGGCTCGT TGGGTATA TGTAACGA TGGTACCC TGGTTGGT CGTTTCGC TGTCCCGA TGACTGGA CTTTTCGA CGATACGA TGGCTCCG CGATTCAA TCGTTAAA TTGCTAGA TTATTAGA TGGTCGGG TGGCTAGT TGTTTTGC TCGGTCTA TTGTTACA TGATACGT CGGTACGT GTATTCGA TGGTATGA TGTTTTAA CGAATCGA TGATTTGC TTGCCCGA AGGCTCGC CGGATAGA TCGTGCGG TGGTGCAC GCGTTTGA TTTTTGGA TGGGCGGA TGACTCAA CGATTTGA CGGTACCA TAGTTAGA TACTTAGA CTGTTCGT AGGTTCCG TGGTTCAG TGTTCCGT TGCTTTGT TGGTTCCC TGGACCAA TAGTTCAA GGTTACGA TGATTCCC ATGTTCCA AGGTATGA TGGCTATA TCGTCTGA TCGTTAGT TATGTCGA AGGTCTGA CCGCTCGA TGGCTTGC TGAATCGC CGGTTCCT TGCAACGA TGCGGCGA TCGTTCAG TCTTTCGG GGCTTCGG TAATACGA GGGTTCAC CTGTTCCA TGCTTTCA TGGCTCGA AGATCCGA TGGCTTTA TGTTTCGT TTGTTAAA TGGTCCCA TTCTTCGC TAGTCTGA TGGCGCAA TCGTTCAT TCCTTCGG TGGTACGG TAAGTCGA CGGCTTGA TGGGTGGC AGGACCGA TCGTGCAA TGGCCTGA TTGTCAGA TTGTTCGC GGGTCCAA TGATTCAC GGTTTCAA TGGCTCTG AGGATAGA TGGTTAAC TGATCCAA TCCGTCGA TAGTTCCT AGGGACGA TTCTTTGA TAGTACGG AGGTGCGT CGGGCCGA TGGCGCCA AGTTTCGC GAGCTCGA TGATGTGA TAGTCCGA TGGGTAAA CGGTCCCA TCGTTCGT TGGATCAG CGTTACGA GGATTGGA TGGTTCAA TAGTCCGT GCGTTCGA AGGTGTGA TCGGTCCA CGGTTTTA CGGCTCGG AGGCACGA AGATTCGT GGGGTTGA AGATGCGA TTGTCCTA TGCAGCGA GGGTTCAG GGGTACCA TGGACCCA TCGTAAGA TACTTTGA TAATTCGG TAGCGCGA TTCTTCTA CGGTAAGA GGGTGCGC TGTTCCCA TCGATCGT CGGTCCAA TGAATTGA GCGGTCGA TAATTCGA GGGTACGT TGGTTAGA TGTATCTA TGGGTGTA ACTTTCGA TTTGTCGA TGGACCGA TGGATGGC ACGCTCGA TTGTTCTT TCGTTGGG CGGTGTGA AAGTTCCA TGATGCAA TGGTTGGC TATTCCGA AGGATCTA TGGCCCGC TGGCTGAA TTGGTCGT GATTTCGA TGGTTGCG TGGTATGC TGCTTCGT TGGGCCGA TTGCACGA TGGATTAA CGTTTCGA TGCTGCGA CGGTGCAA CCGTCCGA TAGACCGA GTTTTCGA TAATTGGA TGGTGCCC TCGCGCGA AGGATCGA GGGTCGGA TGATCAGA GGGTCCGT TGGATTGG TGTGTTGA AGGATCGT TATTTCGC GGGTTCGT CTGTTCGA TAGCTCTA TGTTTCCA GGGGTCCA TTGTGCTA TGGTTACT AGGTGCAA TAGGACGA CGGTTGGA TTGCTTGA GGGATCAA TGGTCCTT TCGATGGA TGCTACAA TCCTTCGC TGGGTTTA TGTGGCGA TGGTATTA TTGATGGA TGATCCGT TCATACGA GGGATCGT TGCTTCTG TGGCTGGG AGATTCCA TGCTTGGT TGGTTTTC TCGTTGGA CGGCTCCA GGATTAGA GGGTTTAA GGGTTTGT TGCGTCTA CGTCTCGA AGTTTTGA TGGCTGGT TAGTGCGA AAGTTCGA AGGTTTGT TGGTGAGG GGGAACGA AGGTTCGA GAGTTCTA GGGTCCGG TGATTACA TGGGTTGC GGCTACGA AAGTTCAA TGGATACA CGGTTCTC TGGGTAGA TGGTACTC TGTTTTGT AGCTTCGA CGGGTCGG TGACTCCA TGGTCTGT GGAGTCGA TAGTCGGA GGGATGGA TTGGTCGA GTGTTCGT AGATTCTA TGTTGCTA TGGTGCGT TGCTAGGA TTGTTAGG TGTTTCAG CGGCCCGA TGGTTTCG TCGTCCGG GCGTTCCA TTCTTCGT GGGTGAGA TGTTTATA TGGTGATA AGGTTCCC TTAGTCGA ATGTTCGG AGGTAAGA TGTTCCGA CGATTCGA TGGGTAGG AGGGTCGT CGGTTTGG TCTTTCGT TGGGACGT GGGAGCGA TGCGTCGT GGGCTCGC TAGTACGA CCATTCGA TGGGGCCA TAGATTGA TGGAGCGC AGGCTCGG TGAGTCAA TATTTAGA TGACTAGA GGGTTGGA TGGGTTCA TGGTTGTA TAGTTGGA TAGGTCGG TGGAGCGT CGATTCGT AGGTTTCA GGCTTCGC TGTTTCTT TAGTGGGA AGTTTCTA CAGTTCGC TGGTCCCT TGTTATGA TCGTTACA AGGTCAGA TTGTACGT GGGTATGA TGATTGGG TGAGCCGA GTCTTCGA GGTATCGA TGGCGCTA TGGTAGGG ACGTGCGA CGTTTTGA TGGTAGTA AGGTTTAA TGCTTCTT TGGCCCGT GGCTGCGA TGGTCACA CGGTGCCA TGTTTGGT CGGTTAGC TGATTCTG TGGGGCGC TCGTTATA TGGCTGGA TTGACCGA TAGTACAA TGTTTCAA AGGGTCTA AGGTAGGA GGTTTCGA AACTTCGA GGATTCGG TGTCTTGA TGGTCGGT CAATTCGA TGGTGCTG TGGTCGAA TGACGCGA TCGTACGG TAGTTAGC TGGCTCAG TGGTTATG TGGTTCCT TTGTTCCG TGCTTCCT TGGCTAAA TGGAACGA TGCTCCGA TCCTTTGA TGCTACGT TGGTGGGA TGCTTCGG TGGTAGGT GGATTCAA TAGTTGTA TCGTTGGC CGGTTATA TCGTCCGT TGGCCGGA TGATTATA TGATACTA TCGTATGA TCGCCCGA TGCTTGAA TGGGCCGT AGTTTCCA CGCTTTGA CGAGTCGA TGATACGG AGGTGCGG TTACTCGA TGCATCGT TGTATCGA GAGTCCGA GGGTCTGA TGGTGCGA TGTTGCAA TGGTCATA CGGTTCCG TGATCCGA TGGTTCGC TTGGACGA TGCTCCGT TGTTTAGG TCGGTCGT AGTTACGA TTGTGTGA AGGAACGA GGGTGCGA TCCTTAGA TGGGTCGC TGCTTCAT CCGTGCGA TTGTCCGT TGGTTAAT GGCTTCTA TGGTGTCA TCGTTTGA TCGCTCGC TGGTCCGT TGCTTGCA TGGTGGCA CGGCTCAA TGGCTTGG TGGGTAGC TCCTCCGA GCGTACGA TTGCTCGG TCAATCGA TGATTCGT TGATGCGT ACGTACGA CCGTACGA TGGTACAG TTGATTGA TATTTCTA TGGTACTT TAGATCGC TGCTGCGT AGCATCGA TGGGTCCT TAATTCTA TAGATCGG TCGATCAA AGGGTCAA TTGATCAA GGGTACAA TCGGTCGA TGTTACGG TGAGTGGA TTGTTATA TGGGTTAA AGAATCGA TAATGCGA CCCTTCGA TAGGTGGA TGGCTGCA TGAGTCGG TGCTTCAG TGCTGAGA TCGTTCTC CGGGTCAA TTGTACAA CGGATGGA TAGTTGGG ACGTCCGA TGTTTAGA TGGACCTA TCGGCCGA AGATTGGA TTCTACGA TGGATAGA TGGTGCGG GGATTCGC TGATACGA GGGTTATA TGGTTCCG TAAATCGA TGAATAGA TGCTGCCA GTGTTCCA TGTATGGA TGGCCCCA AGGGTCGA TGGTACCT TCGTTCTG TGGAACTA TGGTCGTA TGCTAAGA TGGATAGT TGGGTCAG CGGGTCGT TTGAACGA CGTTTCGT CGCTTCGT TAGTTCAG AGGGTCCA TGGTCTCA TTGGTCTA CGGTGGGA TGCTTAGG TAGTAGGA TGCGCCGA TGCATCGC CGGTTCAA TATTTCAA TTGTTTTA TGGGTCTT TGGAGGGA TGGGACGG ACGTTCTA TGGTTACC CAGTTCGT TGGATAAA TCCTTGGA AGCTCCGA TCGTTCTT ATGTACGA TGGCACAA GGAATCGA GGGTAGGA TGTAGCGA CGGATCGC TGGTCCCC ATCTTCGA TGGGCCGC CCGGTCGA TGGGTTGG TGGGTTGT TGGGTCTG TAGTGCGC CTGTCCGA TGGTGCAT TGGAGAGA TTCTTCCA TCGATAGA GGGTTCTA TGGTATAA ATGTTTGA TGTCGCGA TGGTTTAC TAGTACGT AGGTTGGC AGGTGCCA TGGTTACG TACTTCGG AGCTTCGC TCGTTAGG TTGGTTGA TCGTTGCA TCCTTCAA TGGCTTGT ATGTTCAA CGGTGCGC TCGTTCGC TGGGTCTC AGATTAGA TTGTGCGT TCGTTCAA TGGTTATA TAATTTGA TAGGTCGA AGGTTCTA TCCTTCTA TGGGACTA TGTTAAGA TTGTATGA GGATTTGA TCGTCAGA CGCTGCGA GGGTTCGC TGATCCGC TTGTACGA TGGTCCTC AGATACGA TGGTGGAA TGGTGTGT GGGGTCGC CGCATCGA TTGTTGGT TGTGACGA TGATTCAA TTGTGGGA TCGGACGA TGATTCGC TGAATGGA CTGTTTGA GGGTTAGG TGTTCCTA TGGCGTGA TTGCTCGT TGGTGACA TAGGTCAA TCGGTCGG TGGTATGG TTGTAAGA TGGATATA TGGGTCCA TTATTCGT AAGTTAGA GGGATAGA TGATCCTA AGGTTTGC TGGTTGAT TGGAACGC TAGTGAGA TGGGCCGG TGGTCCTA GGGTTTGC GGCTTAGA ATGTTAGA CCGTTCAA TAGTAAGA CGGCTCGA CTCTTCGA TGGTCCGA TGCTCAGA TGTCTCTA TTGTTCTG TCGATCGG TAGTTCGT GGGTGCCA TGCTTTGA AGCTTGGA TCGTGCTA TTTTTCGT GGATACGA TGGATGAA TGGTGTGG TCGTTTCA TAGAACGA GGGTTAAA AGGATCGG CCGTTAGA ACGTTGGA TGGATCCC TAGTTCCC TGATTCAT TGATCTGA TGGTTTGT TGGTAACA TCCTTCGT GGGCACGA TTTTTCAA TGATTCGA GGGTGCTA TGTCTAGA TGTGTCGG CGGTTCTA AGGTTCCT TGCCTGGA TCATTCAA GGATTCGT AGACTCGA TGGTACAA TGGCGCGG CCGTTCTA AGGATCCA TGCCTCCA TCGCTTGA TTGTCCGG TGCTACTA TAGTTTAA CTGCTCGA TGGTTGCA CGTTTCCA TGCTTATA TACATCGA GGGATCGC GGGTTCCA TCATTCGG CGGATCGT TGCCACGA TAGTTACA TATTTCGG TCCCTCGA TTTCTCGA CGGCTCGC TTTTCCGA TAATTCGT AGGTTAGA GTGTTTGA CATTTCGA AGGTACCA GTGTTGGA AGGTGAGA TGGGTACA CGGTTGAA TGGTTTGA TCGTTCCC CGGGTAGA TAGGTCTA TGGTGAAA TAGTTAAA CGCTTGGA CGCTTCGA GGGCTCGA CAGTTCGA TGCTTGGA GCGTTCAA GGGTTCAT TGCGTCGA AGGTTAGT TCGTACGA TGGTACTA TGGATCGG TCGTTAGA TGAGTCGA TGGTGAGT ATTTTCGA TGCCTCGG TGTTGTGA TAGATGGA GGCATCGA TGCGTCGG GGGGTAGA TTGTCCGA AGGTGCGA TGCTTCGC TTTTACGA TCGCTGGA TGATTCTT TACTTCTA CTGTTGGA GGGTTGGC TCGTTTTA TGGTTTTG TGCTTCGA GGGTGCGG GGGATTGA GCGATCGA TGAGTCGT TTTTTCCA TGCTTGGC GGACTCGA CGGTTAGG TAGTTGCA TCCATCGA AGGTCCGA GGGTTCTT AGTTCCGA TGGGCAGA GAGTTCAA TGAATCTA TTATCCGA TCACTCGA TCATCCGA TGGAACGG TGAATCGT GGGCTCCA TGGAAAGA TGTTACGC TGTTTGCA AGGATTGA TATTTGGA TGGAACCA TGGAGCGA TGAACCGA TGGTTTAA CTGTACGA TGGCTCCT TAGCTCCA TGGTCCAT AAGTTCTA CTGATCGA TACTTCGA TGGCCCAA GAGTTCGT TAGTTCTC TGGTTTCT ACGTTCGA CGATTCTA TTATACGA CTGTTCGC AAGTTCGC TGGCTTGA GGATCCGA TGGTACGT GGTTTTGA TTGCTCCA CGCCTCGA TGGCTCTT TGGATCTC TGATAAGA TGACACGA TGTCACGA AGGCTCGT TCCTACGA ACGTTCGT GGGTGGGA GGGTTCCT CAGATCGA GGGTTCGG TCGTACTA TGGAGCAA TAGTTCGC TGGATCCA CAGTTCTA AAGTACGA TTATTCGC TGAATCCA TGGAGCTA TGCTCCAA TGGTTTCA TGGAAGGA TGCTTCCG TGCTTTGC TGTGTCGC TAGGCCGA TGTACCGA TGTTTAGT TCGGTCGC TCGTCGGA AAATTCGA ACGTTAGA TATTTCCA TAGTTGAA AGGTTCTC TGCATAGA TGATGGGA TGCCTCTA TGGCAAGA TCGTTAGC AGGGTTGA TGGAACAA TGCTTTTA TTGTTCGG TAGGTTGA TCGGTGGA TGGTCCTG TGGTGCTT TTGATCGT AGGCTCGA TTCCTCGA TTGCTCGC TGGCTCAA CGGTCGGA TGGATGTA AGGCTCCA TTATTTGA TGCGTCGC TTATTGGA TCGTTTGT TGCATCTA TTTTTCGA TGCTTCTC GAGTTAGA AGTTTCGG TGGATTGA TGAGGCGA GGGCTCGT TCGAACGA TGGTTCCA AGGTTCAA AGGTTCTT TGGTGCTA TTCGTCGA TGGTTGCT TGGGTTGA TGGGCCTA AGCTTCAA TGTTCAGA AGATTCAA GCGTTCGG TTGGCCGA TCGTTGAA ATGCTCGA AGCTACGA TGGCTAGA TTGAGCGA TTGTGCGG GGTTTCGG TTGTTCGT GGGCGCGA CACTTCGA GGGCTTGA TGCGTTGA TCGTCCTA GGGGTCGG TTGTGCAA TGGTGGTA TTTTTCGC TGCTACGC AAGTTTGA TGATTAAA TGCTCCTA TAGTGTGA CTGTGCGA TCGGGCGA TGAGACGA CGGGTCTA TCGCTCTA AGGTACTA GCGTGCGA AGCTTCGG TCGTTGGT AGGCTAGA TGGATTGT TCATTCTA AGGGGCGA TCGGTTGA CGGCTGGA TGGGGCGG TCGCACGA TGGGTGCA TGGGGAGA TGCTTTAA TGGCTCGG CGGAGCGA ACGTTCGC AGGTCCAA TGATGCCA CGGTACGA CAGTTCCA GGGTTGAA TTATTCGA TGGTATGT AGGGTGGA TGTTCCAA CGGATCGA AAGGTCGA TGGATCAC CCGTTCCA AGGATCAA TGGTGTTA TAGTTCCG AGAGTCGA TGACTTGA TGGGCTGA CGGTTGCA TCATTCGA TAGTTTGT TCATTTGA TCGTAGGA TTGGTCGC TGCCTCGT TAGTTCTG TAGTTGGT GGGTACTA CGATTGGA TGGGAGGA TGATTAGA AGGTTTGA TAGTTTCA GGATGCGA CCGATCGA TGGCTCAT TGTCTCGA CGCTACGA CGGAACGA TGTTTAGC TGAGTCGC GGGTTCAA TTGATCGC TCGTACGT TGATTTAA GCTTTCGA GGGTTTGG TGGGTCCG TTTATCGA TGGTGAGA TGACTCGG TAGTTCTA TTGTTTGT GGTTTCTA TGGCGCGT TTGATCCA TGGCGCGC TGTCTCGG TTGTTGGA TGGGACGC TGCTGGGA AGGTTCGC TAGTCCTA TTATTCCA CTATTCGA TGGTCCCG AGGTCCGG TGGTGCCG GGGCTAGA TCGTACAA TAGATCGA GGGGCCGA TTGTTCAG TGGGTCGG CCGTTGGA CGGGTGGA TGGGAAGA GAATTCGA TGATGCTA TGATACAA TGATTGGC TCGGTAGA TGGTTGGA TTGGTCGG CAGCTCGA CAGTGCGA TGTTTCGC TGGTTACA TGGCTTAA TGGTACCG TGTCTCGT TGATTGTA TAGTTCCA TCGTTGTA TTGATCGG TGCTCGGA TGGCCAGA GTGATCGA TGGTCAGG TGGTTAAG TGCGTCCA CCGTTTGA TGGCGAGA GTGTTCGC CGATTCCA TGGGATGA TCGTTTGG TGGACAGA TGGGTCGT TCGCTCGG TGGTTGCC TGGATCAT AGGTCCGT TATTTCGT GAGATCGA TGGACCGC TGTTACAA TGGCACTA TGCTGCAA CGCTTCTA CGGGGCGA CGGGTCGC TAGTTATA AGGTCGGA TGGGTCGA GGGGTCGA CGTATCGA TGGACTGA TGGTCTGG TTGGTAGA TCGTCCGC TGGCACGC TGGGGCGA TTGATAGA GTGTTCTA TTGTACGC AAGATCGA TGTATCAA CTGTTCGG AAGTCCGA TGCTCCCA TGGATGGG TTGTTCCC TCGTTTAA CGATCCGA CGGTTCGT TAGTTCAT GTGGTCGA TGGATCAA AGGTTGTA AGCGTCGA GGGTGCGT TGCCCCGA TGGTTCTA TTCTGCGA TAGTACCA TTGTCGGA TCGTGTGA TGATTGCA TGTGTAGA TGGATGCA TCAGTCGA ATGTTGGA AGTTGCGA GGGCTCGG TGCATTGA TGGGTGAA\n"
     ]
    }
   ],
   "source": [
    "with open('dataset_3014_4.txt', 'r') as f:\n",
    "    Pattern = f.readline().strip()\n",
    "    d = int(f.readline().strip())\n",
    "print(' '.join(Neighbors(Pattern, d)))"
   ]
  },
  {
   "cell_type": "markdown",
   "metadata": {},
   "source": [
    "### <font color='purple'>ComputingFrequenciesWithMismatches </font>"
   ]
  },
  {
   "cell_type": "code",
   "execution_count": 16,
   "metadata": {},
   "outputs": [],
   "source": [
    "def PatternToNumber(pattern):\n",
    "    num = 0\n",
    "    dic = {\"A\": 0, \"C\": 1, \"G\": 2, \"T\": 3}\n",
    "    for i in range(len(pattern)):\n",
    "        num += dic[pattern[i]] * 4 ** (len(pattern) - i - 1)\n",
    "    return num"
   ]
  },
  {
   "cell_type": "code",
   "execution_count": 18,
   "metadata": {},
   "outputs": [],
   "source": [
    "def ComputingFrequenciesWithMismatches(Text, k, d):\n",
    "    FrequencyArray = [0] * (4 ** k)\n",
    "    for i in range(len(Text) - k + 1):\n",
    "        Pattern = Text[i:i + k]\n",
    "        Neighborhood = Neighbors(Pattern, d)\n",
    "        for string in Neighborhood:\n",
    "            j = PatternToNumber(string)\n",
    "            FrequencyArray[j] += 1\n",
    "    return FrequencyArray"
   ]
  }
 ],
 "metadata": {
  "kernelspec": {
   "display_name": "Python 3",
   "language": "python",
   "name": "python3"
  },
  "language_info": {
   "codemirror_mode": {
    "name": "ipython",
    "version": 3
   },
   "file_extension": ".py",
   "mimetype": "text/x-python",
   "name": "python",
   "nbconvert_exporter": "python",
   "pygments_lexer": "ipython3",
   "version": "3.7.6"
  }
 },
 "nbformat": 4,
 "nbformat_minor": 4
}
